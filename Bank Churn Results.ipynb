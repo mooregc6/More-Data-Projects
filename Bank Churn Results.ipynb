{
 "cells": [
  {
   "cell_type": "code",
   "execution_count": 61,
   "id": "82eb24f9",
   "metadata": {},
   "outputs": [],
   "source": [
    "import numpy as np\n",
    "import pandas as pd\n",
    "import seaborn as sns\n",
    "import matplotlib.pyplot as plt"
   ]
  },
  {
   "cell_type": "code",
   "execution_count": 62,
   "id": "b7b09a7f",
   "metadata": {},
   "outputs": [
    {
     "data": {
      "text/html": [
       "<div>\n",
       "<style scoped>\n",
       "    .dataframe tbody tr th:only-of-type {\n",
       "        vertical-align: middle;\n",
       "    }\n",
       "\n",
       "    .dataframe tbody tr th {\n",
       "        vertical-align: top;\n",
       "    }\n",
       "\n",
       "    .dataframe thead th {\n",
       "        text-align: right;\n",
       "    }\n",
       "</style>\n",
       "<table border=\"1\" class=\"dataframe\">\n",
       "  <thead>\n",
       "    <tr style=\"text-align: right;\">\n",
       "      <th></th>\n",
       "      <th>RowNumber</th>\n",
       "      <th>CustomerId</th>\n",
       "      <th>Surname</th>\n",
       "      <th>CreditScore</th>\n",
       "      <th>Geography</th>\n",
       "      <th>Gender</th>\n",
       "      <th>Age</th>\n",
       "      <th>Tenure</th>\n",
       "      <th>Balance</th>\n",
       "      <th>NumOfProducts</th>\n",
       "      <th>HasCrCard</th>\n",
       "      <th>IsActiveMember</th>\n",
       "      <th>EstimatedSalary</th>\n",
       "      <th>Exited</th>\n",
       "    </tr>\n",
       "  </thead>\n",
       "  <tbody>\n",
       "    <tr>\n",
       "      <th>0</th>\n",
       "      <td>1</td>\n",
       "      <td>15634602</td>\n",
       "      <td>Hargrave</td>\n",
       "      <td>619</td>\n",
       "      <td>France</td>\n",
       "      <td>Female</td>\n",
       "      <td>42</td>\n",
       "      <td>2</td>\n",
       "      <td>0.00</td>\n",
       "      <td>1</td>\n",
       "      <td>1</td>\n",
       "      <td>1</td>\n",
       "      <td>101348.88</td>\n",
       "      <td>1</td>\n",
       "    </tr>\n",
       "    <tr>\n",
       "      <th>1</th>\n",
       "      <td>2</td>\n",
       "      <td>15647311</td>\n",
       "      <td>Hill</td>\n",
       "      <td>608</td>\n",
       "      <td>Spain</td>\n",
       "      <td>Female</td>\n",
       "      <td>41</td>\n",
       "      <td>1</td>\n",
       "      <td>83807.86</td>\n",
       "      <td>1</td>\n",
       "      <td>0</td>\n",
       "      <td>1</td>\n",
       "      <td>112542.58</td>\n",
       "      <td>0</td>\n",
       "    </tr>\n",
       "    <tr>\n",
       "      <th>2</th>\n",
       "      <td>3</td>\n",
       "      <td>15619304</td>\n",
       "      <td>Onio</td>\n",
       "      <td>502</td>\n",
       "      <td>France</td>\n",
       "      <td>Female</td>\n",
       "      <td>42</td>\n",
       "      <td>8</td>\n",
       "      <td>159660.80</td>\n",
       "      <td>3</td>\n",
       "      <td>1</td>\n",
       "      <td>0</td>\n",
       "      <td>113931.57</td>\n",
       "      <td>1</td>\n",
       "    </tr>\n",
       "    <tr>\n",
       "      <th>3</th>\n",
       "      <td>4</td>\n",
       "      <td>15701354</td>\n",
       "      <td>Boni</td>\n",
       "      <td>699</td>\n",
       "      <td>France</td>\n",
       "      <td>Female</td>\n",
       "      <td>39</td>\n",
       "      <td>1</td>\n",
       "      <td>0.00</td>\n",
       "      <td>2</td>\n",
       "      <td>0</td>\n",
       "      <td>0</td>\n",
       "      <td>93826.63</td>\n",
       "      <td>0</td>\n",
       "    </tr>\n",
       "    <tr>\n",
       "      <th>4</th>\n",
       "      <td>5</td>\n",
       "      <td>15737888</td>\n",
       "      <td>Mitchell</td>\n",
       "      <td>850</td>\n",
       "      <td>Spain</td>\n",
       "      <td>Female</td>\n",
       "      <td>43</td>\n",
       "      <td>2</td>\n",
       "      <td>125510.82</td>\n",
       "      <td>1</td>\n",
       "      <td>1</td>\n",
       "      <td>1</td>\n",
       "      <td>79084.10</td>\n",
       "      <td>0</td>\n",
       "    </tr>\n",
       "  </tbody>\n",
       "</table>\n",
       "</div>"
      ],
      "text/plain": [
       "   RowNumber  CustomerId   Surname  CreditScore Geography  Gender  Age  \\\n",
       "0          1    15634602  Hargrave          619    France  Female   42   \n",
       "1          2    15647311      Hill          608     Spain  Female   41   \n",
       "2          3    15619304      Onio          502    France  Female   42   \n",
       "3          4    15701354      Boni          699    France  Female   39   \n",
       "4          5    15737888  Mitchell          850     Spain  Female   43   \n",
       "\n",
       "   Tenure    Balance  NumOfProducts  HasCrCard  IsActiveMember  \\\n",
       "0       2       0.00              1          1               1   \n",
       "1       1   83807.86              1          0               1   \n",
       "2       8  159660.80              3          1               0   \n",
       "3       1       0.00              2          0               0   \n",
       "4       2  125510.82              1          1               1   \n",
       "\n",
       "   EstimatedSalary  Exited  \n",
       "0        101348.88       1  \n",
       "1        112542.58       0  \n",
       "2        113931.57       1  \n",
       "3         93826.63       0  \n",
       "4         79084.10       0  "
      ]
     },
     "execution_count": 62,
     "metadata": {},
     "output_type": "execute_result"
    }
   ],
   "source": [
    "bank_df = pd.read_csv('Kaggle/Churn_Modelling.csv')\n",
    "\n",
    "bank_df.head()"
   ]
  },
  {
   "cell_type": "code",
   "execution_count": 63,
   "id": "bcca36ab",
   "metadata": {},
   "outputs": [
    {
     "data": {
      "text/plain": [
       "RowNumber          0\n",
       "CustomerId         0\n",
       "Surname            0\n",
       "CreditScore        0\n",
       "Geography          0\n",
       "Gender             0\n",
       "Age                0\n",
       "Tenure             0\n",
       "Balance            0\n",
       "NumOfProducts      0\n",
       "HasCrCard          0\n",
       "IsActiveMember     0\n",
       "EstimatedSalary    0\n",
       "Exited             0\n",
       "dtype: int64"
      ]
     },
     "execution_count": 63,
     "metadata": {},
     "output_type": "execute_result"
    }
   ],
   "source": [
    "bank_df.isnull().sum()"
   ]
  },
  {
   "cell_type": "code",
   "execution_count": 64,
   "id": "2f0e90d1",
   "metadata": {},
   "outputs": [
    {
     "data": {
      "text/plain": [
       "array(['France', 'Spain', 'Germany'], dtype=object)"
      ]
     },
     "execution_count": 64,
     "metadata": {},
     "output_type": "execute_result"
    }
   ],
   "source": [
    "bank_df['Geography'].unique()"
   ]
  },
  {
   "cell_type": "code",
   "execution_count": 65,
   "id": "9bf65e9e",
   "metadata": {},
   "outputs": [
    {
     "data": {
      "text/plain": [
       "92"
      ]
     },
     "execution_count": 65,
     "metadata": {},
     "output_type": "execute_result"
    }
   ],
   "source": [
    "bank_df['Age'].max()"
   ]
  },
  {
   "cell_type": "code",
   "execution_count": 66,
   "id": "c937fb50",
   "metadata": {},
   "outputs": [
    {
     "data": {
      "text/plain": [
       "18"
      ]
     },
     "execution_count": 66,
     "metadata": {},
     "output_type": "execute_result"
    }
   ],
   "source": [
    "bank_df['Age'].min()"
   ]
  },
  {
   "cell_type": "code",
   "execution_count": 67,
   "id": "0afd6d59",
   "metadata": {},
   "outputs": [
    {
     "data": {
      "text/plain": [
       "<AxesSubplot:xlabel='Exited', ylabel='count'>"
      ]
     },
     "execution_count": 67,
     "metadata": {},
     "output_type": "execute_result"
    },
    {
     "data": {
      "image/png": "[encoded data removed]",
      "text/plain": [
       "<Figure size 432x288 with 1 Axes>"
      ]
     },
     "metadata": {
      "needs_background": "light"
     },
     "output_type": "display_data"
    }
   ],
   "source": [
    "sns.countplot(data=bank_df, x='Exited')"
   ]
  },
  {
   "cell_type": "code",
   "execution_count": 68,
   "id": "1dd71e5a",
   "metadata": {},
   "outputs": [
    {
     "data": {
      "text/plain": [
       "<AxesSubplot:xlabel='Exited', ylabel='CreditScore'>"
      ]
     },
     "execution_count": 68,
     "metadata": {},
     "output_type": "execute_result"
    },
    {
     "data": {
      "image/png": "[encoded data removed]",
      "text/plain": [
       "<Figure size 432x288 with 1 Axes>"
      ]
     },
     "metadata": {
      "needs_background": "light"
     },
     "output_type": "display_data"
    }
   ],
   "source": [
    "sns.boxplot(data=bank_df, x='Exited', y='CreditScore')"
   ]
  },
  {
   "cell_type": "code",
   "execution_count": 69,
   "id": "049d5f70",
   "metadata": {},
   "outputs": [],
   "source": [
    "low_credit_score = bank_df[bank_df['CreditScore']<=405]"
   ]
  },
  {
   "cell_type": "code",
   "execution_count": 70,
   "id": "f276fb8a",
   "metadata": {},
   "outputs": [
    {
     "data": {
      "text/plain": [
       "<AxesSubplot:xlabel='Exited', ylabel='count'>"
      ]
     },
     "execution_count": 70,
     "metadata": {},
     "output_type": "execute_result"
    },
    {
     "data": {
      "image/png": "[encoded data removed]",
      "text/plain": [
       "<Figure size 432x288 with 1 Axes>"
      ]
     },
     "metadata": {
      "needs_background": "light"
     },
     "output_type": "display_data"
    }
   ],
   "source": [
    "#Looking at how many people with a credit score under 405 are active members\n",
    "\n",
    "sns.countplot(data=low_credit_score, x='Exited')"
   ]
  },
  {
   "cell_type": "code",
   "execution_count": 71,
   "id": "a37eb917",
   "metadata": {},
   "outputs": [
    {
     "data": {
      "text/plain": [
       "199992.48"
      ]
     },
     "execution_count": 71,
     "metadata": {},
     "output_type": "execute_result"
    }
   ],
   "source": [
    "bank_df['EstimatedSalary'].max()"
   ]
  },
  {
   "cell_type": "code",
   "execution_count": 72,
   "id": "baaf67e6",
   "metadata": {},
   "outputs": [
    {
     "data": {
      "text/plain": [
       "11.58"
      ]
     },
     "execution_count": 72,
     "metadata": {},
     "output_type": "execute_result"
    }
   ],
   "source": [
    "bank_df['EstimatedSalary'].min()"
   ]
  },
  {
   "cell_type": "code",
   "execution_count": 73,
   "id": "f01b5a88",
   "metadata": {},
   "outputs": [
    {
     "data": {
      "text/plain": [
       "array([1, 3, 2, 4], dtype=int64)"
      ]
     },
     "execution_count": 73,
     "metadata": {},
     "output_type": "execute_result"
    }
   ],
   "source": [
    "bank_df['NumOfProducts'].unique()"
   ]
  },
  {
   "cell_type": "code",
   "execution_count": 74,
   "id": "e499fe38",
   "metadata": {},
   "outputs": [
    {
     "data": {
      "image/png": "[encoded data removed]",
      "text/plain": [
       "<Figure size 360x360 with 1 Axes>"
      ]
     },
     "metadata": {
      "needs_background": "light"
     },
     "output_type": "display_data"
    }
   ],
   "source": [
    "sns.displot(data=bank_df, x='EstimatedSalary')\n",
    "plt.xticks(rotation=90);"
   ]
  },
  {
   "cell_type": "code",
   "execution_count": 75,
   "id": "e8e95a57",
   "metadata": {},
   "outputs": [],
   "source": [
    "#Creating a column called salary groups\n",
    "\n",
    "\n",
    "def money (salary):\n",
    "    if salary <= 25000:\n",
    "        return 1\n",
    "    elif salary <= 50000:\n",
    "        return 2\n",
    "    elif salary <= 75000:\n",
    "        return 3\n",
    "    elif salary <= 100000:\n",
    "        return 4\n",
    "    elif salary <= 125000:\n",
    "        return 5\n",
    "    elif salary <= 150000:\n",
    "        return 6\n",
    "    elif salary <= 175000:\n",
    "        return 7\n",
    "    else:\n",
    "        return 8\n",
    "    \n",
    "bank_df['Salaries_Grouped'] = bank_df['EstimatedSalary'].apply(money)"
   ]
  },
  {
   "cell_type": "code",
   "execution_count": 76,
   "id": "ac7a881d",
   "metadata": {},
   "outputs": [
    {
     "data": {
      "text/html": [
       "<div>\n",
       "<style scoped>\n",
       "    .dataframe tbody tr th:only-of-type {\n",
       "        vertical-align: middle;\n",
       "    }\n",
       "\n",
       "    .dataframe tbody tr th {\n",
       "        vertical-align: top;\n",
       "    }\n",
       "\n",
       "    .dataframe thead th {\n",
       "        text-align: right;\n",
       "    }\n",
       "</style>\n",
       "<table border=\"1\" class=\"dataframe\">\n",
       "  <thead>\n",
       "    <tr style=\"text-align: right;\">\n",
       "      <th></th>\n",
       "      <th>RowNumber</th>\n",
       "      <th>CustomerId</th>\n",
       "      <th>Surname</th>\n",
       "      <th>CreditScore</th>\n",
       "      <th>Geography</th>\n",
       "      <th>Gender</th>\n",
       "      <th>Age</th>\n",
       "      <th>Tenure</th>\n",
       "      <th>Balance</th>\n",
       "      <th>NumOfProducts</th>\n",
       "      <th>HasCrCard</th>\n",
       "      <th>IsActiveMember</th>\n",
       "      <th>EstimatedSalary</th>\n",
       "      <th>Exited</th>\n",
       "      <th>Salaries_Grouped</th>\n",
       "    </tr>\n",
       "  </thead>\n",
       "  <tbody>\n",
       "    <tr>\n",
       "      <th>0</th>\n",
       "      <td>1</td>\n",
       "      <td>15634602</td>\n",
       "      <td>Hargrave</td>\n",
       "      <td>619</td>\n",
       "      <td>France</td>\n",
       "      <td>Female</td>\n",
       "      <td>42</td>\n",
       "      <td>2</td>\n",
       "      <td>0.00</td>\n",
       "      <td>1</td>\n",
       "      <td>1</td>\n",
       "      <td>1</td>\n",
       "      <td>101348.88</td>\n",
       "      <td>1</td>\n",
       "      <td>5</td>\n",
       "    </tr>\n",
       "    <tr>\n",
       "      <th>1</th>\n",
       "      <td>2</td>\n",
       "      <td>15647311</td>\n",
       "      <td>Hill</td>\n",
       "      <td>608</td>\n",
       "      <td>Spain</td>\n",
       "      <td>Female</td>\n",
       "      <td>41</td>\n",
       "      <td>1</td>\n",
       "      <td>83807.86</td>\n",
       "      <td>1</td>\n",
       "      <td>0</td>\n",
       "      <td>1</td>\n",
       "      <td>112542.58</td>\n",
       "      <td>0</td>\n",
       "      <td>5</td>\n",
       "    </tr>\n",
       "    <tr>\n",
       "      <th>2</th>\n",
       "      <td>3</td>\n",
       "      <td>15619304</td>\n",
       "      <td>Onio</td>\n",
       "      <td>502</td>\n",
       "      <td>France</td>\n",
       "      <td>Female</td>\n",
       "      <td>42</td>\n",
       "      <td>8</td>\n",
       "      <td>159660.80</td>\n",
       "      <td>3</td>\n",
       "      <td>1</td>\n",
       "      <td>0</td>\n",
       "      <td>113931.57</td>\n",
       "      <td>1</td>\n",
       "      <td>5</td>\n",
       "    </tr>\n",
       "    <tr>\n",
       "      <th>3</th>\n",
       "      <td>4</td>\n",
       "      <td>15701354</td>\n",
       "      <td>Boni</td>\n",
       "      <td>699</td>\n",
       "      <td>France</td>\n",
       "      <td>Female</td>\n",
       "      <td>39</td>\n",
       "      <td>1</td>\n",
       "      <td>0.00</td>\n",
       "      <td>2</td>\n",
       "      <td>0</td>\n",
       "      <td>0</td>\n",
       "      <td>93826.63</td>\n",
       "      <td>0</td>\n",
       "      <td>4</td>\n",
       "    </tr>\n",
       "    <tr>\n",
       "      <th>4</th>\n",
       "      <td>5</td>\n",
       "      <td>15737888</td>\n",
       "      <td>Mitchell</td>\n",
       "      <td>850</td>\n",
       "      <td>Spain</td>\n",
       "      <td>Female</td>\n",
       "      <td>43</td>\n",
       "      <td>2</td>\n",
       "      <td>125510.82</td>\n",
       "      <td>1</td>\n",
       "      <td>1</td>\n",
       "      <td>1</td>\n",
       "      <td>79084.10</td>\n",
       "      <td>0</td>\n",
       "      <td>4</td>\n",
       "    </tr>\n",
       "  </tbody>\n",
       "</table>\n",
       "</div>"
      ],
      "text/plain": [
       "   RowNumber  CustomerId   Surname  CreditScore Geography  Gender  Age  \\\n",
       "0          1    15634602  Hargrave          619    France  Female   42   \n",
       "1          2    15647311      Hill          608     Spain  Female   41   \n",
       "2          3    15619304      Onio          502    France  Female   42   \n",
       "3          4    15701354      Boni          699    France  Female   39   \n",
       "4          5    15737888  Mitchell          850     Spain  Female   43   \n",
       "\n",
       "   Tenure    Balance  NumOfProducts  HasCrCard  IsActiveMember  \\\n",
       "0       2       0.00              1          1               1   \n",
       "1       1   83807.86              1          0               1   \n",
       "2       8  159660.80              3          1               0   \n",
       "3       1       0.00              2          0               0   \n",
       "4       2  125510.82              1          1               1   \n",
       "\n",
       "   EstimatedSalary  Exited  Salaries_Grouped  \n",
       "0        101348.88       1                 5  \n",
       "1        112542.58       0                 5  \n",
       "2        113931.57       1                 5  \n",
       "3         93826.63       0                 4  \n",
       "4         79084.10       0                 4  "
      ]
     },
     "execution_count": 76,
     "metadata": {},
     "output_type": "execute_result"
    }
   ],
   "source": [
    "bank_df.head()"
   ]
  },
  {
   "cell_type": "code",
   "execution_count": 77,
   "id": "3ed9e4ba",
   "metadata": {},
   "outputs": [
    {
     "data": {
      "image/png": "[encoded data removed]",
      "text/plain": [
       "<Figure size 360x360 with 1 Axes>"
      ]
     },
     "metadata": {
      "needs_background": "light"
     },
     "output_type": "display_data"
    }
   ],
   "source": [
    "sns.displot(data=bank_df, x='Salaries_Grouped')\n",
    "plt.xticks(rotation=90);"
   ]
  },
  {
   "cell_type": "code",
   "execution_count": 78,
   "id": "c227c091",
   "metadata": {},
   "outputs": [
    {
     "data": {
      "text/plain": [
       "250898.09"
      ]
     },
     "execution_count": 78,
     "metadata": {},
     "output_type": "execute_result"
    }
   ],
   "source": [
    "bank_df['Balance'].max()"
   ]
  },
  {
   "cell_type": "code",
   "execution_count": 79,
   "id": "676ee53b",
   "metadata": {},
   "outputs": [
    {
     "data": {
      "text/plain": [
       "0.0"
      ]
     },
     "execution_count": 79,
     "metadata": {},
     "output_type": "execute_result"
    }
   ],
   "source": [
    "bank_df['Balance'].min()"
   ]
  },
  {
   "cell_type": "code",
   "execution_count": 80,
   "id": "b8ec0bf2",
   "metadata": {},
   "outputs": [],
   "source": [
    "#Creating a column called balances grouped\n",
    "\n",
    "\n",
    "def balance (money):\n",
    "    if money <= 25000:\n",
    "        return 1\n",
    "    elif money <= 50000:\n",
    "        return 2\n",
    "    elif money <= 75000:\n",
    "        return 3\n",
    "    elif money <= 100000:\n",
    "        return 4\n",
    "    elif money <= 125000:\n",
    "        return 5\n",
    "    elif money <= 150000:\n",
    "        return 6\n",
    "    elif money <= 175000:\n",
    "        return 7\n",
    "    else:\n",
    "        return 8\n",
    "    \n",
    "bank_df['Balances_Grouped'] = bank_df['Balance'].apply(balance)"
   ]
  },
  {
   "cell_type": "code",
   "execution_count": 81,
   "id": "2e9cf9bc",
   "metadata": {},
   "outputs": [
    {
     "data": {
      "text/html": [
       "<div>\n",
       "<style scoped>\n",
       "    .dataframe tbody tr th:only-of-type {\n",
       "        vertical-align: middle;\n",
       "    }\n",
       "\n",
       "    .dataframe tbody tr th {\n",
       "        vertical-align: top;\n",
       "    }\n",
       "\n",
       "    .dataframe thead th {\n",
       "        text-align: right;\n",
       "    }\n",
       "</style>\n",
       "<table border=\"1\" class=\"dataframe\">\n",
       "  <thead>\n",
       "    <tr style=\"text-align: right;\">\n",
       "      <th></th>\n",
       "      <th>RowNumber</th>\n",
       "      <th>CustomerId</th>\n",
       "      <th>Surname</th>\n",
       "      <th>CreditScore</th>\n",
       "      <th>Geography</th>\n",
       "      <th>Gender</th>\n",
       "      <th>Age</th>\n",
       "      <th>Tenure</th>\n",
       "      <th>Balance</th>\n",
       "      <th>NumOfProducts</th>\n",
       "      <th>HasCrCard</th>\n",
       "      <th>IsActiveMember</th>\n",
       "      <th>EstimatedSalary</th>\n",
       "      <th>Exited</th>\n",
       "      <th>Salaries_Grouped</th>\n",
       "      <th>Balances_Grouped</th>\n",
       "    </tr>\n",
       "  </thead>\n",
       "  <tbody>\n",
       "    <tr>\n",
       "      <th>0</th>\n",
       "      <td>1</td>\n",
       "      <td>15634602</td>\n",
       "      <td>Hargrave</td>\n",
       "      <td>619</td>\n",
       "      <td>France</td>\n",
       "      <td>Female</td>\n",
       "      <td>42</td>\n",
       "      <td>2</td>\n",
       "      <td>0.00</td>\n",
       "      <td>1</td>\n",
       "      <td>1</td>\n",
       "      <td>1</td>\n",
       "      <td>101348.88</td>\n",
       "      <td>1</td>\n",
       "      <td>5</td>\n",
       "      <td>1</td>\n",
       "    </tr>\n",
       "    <tr>\n",
       "      <th>1</th>\n",
       "      <td>2</td>\n",
       "      <td>15647311</td>\n",
       "      <td>Hill</td>\n",
       "      <td>608</td>\n",
       "      <td>Spain</td>\n",
       "      <td>Female</td>\n",
       "      <td>41</td>\n",
       "      <td>1</td>\n",
       "      <td>83807.86</td>\n",
       "      <td>1</td>\n",
       "      <td>0</td>\n",
       "      <td>1</td>\n",
       "      <td>112542.58</td>\n",
       "      <td>0</td>\n",
       "      <td>5</td>\n",
       "      <td>4</td>\n",
       "    </tr>\n",
       "    <tr>\n",
       "      <th>2</th>\n",
       "      <td>3</td>\n",
       "      <td>15619304</td>\n",
       "      <td>Onio</td>\n",
       "      <td>502</td>\n",
       "      <td>France</td>\n",
       "      <td>Female</td>\n",
       "      <td>42</td>\n",
       "      <td>8</td>\n",
       "      <td>159660.80</td>\n",
       "      <td>3</td>\n",
       "      <td>1</td>\n",
       "      <td>0</td>\n",
       "      <td>113931.57</td>\n",
       "      <td>1</td>\n",
       "      <td>5</td>\n",
       "      <td>7</td>\n",
       "    </tr>\n",
       "    <tr>\n",
       "      <th>3</th>\n",
       "      <td>4</td>\n",
       "      <td>15701354</td>\n",
       "      <td>Boni</td>\n",
       "      <td>699</td>\n",
       "      <td>France</td>\n",
       "      <td>Female</td>\n",
       "      <td>39</td>\n",
       "      <td>1</td>\n",
       "      <td>0.00</td>\n",
       "      <td>2</td>\n",
       "      <td>0</td>\n",
       "      <td>0</td>\n",
       "      <td>93826.63</td>\n",
       "      <td>0</td>\n",
       "      <td>4</td>\n",
       "      <td>1</td>\n",
       "    </tr>\n",
       "    <tr>\n",
       "      <th>4</th>\n",
       "      <td>5</td>\n",
       "      <td>15737888</td>\n",
       "      <td>Mitchell</td>\n",
       "      <td>850</td>\n",
       "      <td>Spain</td>\n",
       "      <td>Female</td>\n",
       "      <td>43</td>\n",
       "      <td>2</td>\n",
       "      <td>125510.82</td>\n",
       "      <td>1</td>\n",
       "      <td>1</td>\n",
       "      <td>1</td>\n",
       "      <td>79084.10</td>\n",
       "      <td>0</td>\n",
       "      <td>4</td>\n",
       "      <td>6</td>\n",
       "    </tr>\n",
       "  </tbody>\n",
       "</table>\n",
       "</div>"
      ],
      "text/plain": [
       "   RowNumber  CustomerId   Surname  CreditScore Geography  Gender  Age  \\\n",
       "0          1    15634602  Hargrave          619    France  Female   42   \n",
       "1          2    15647311      Hill          608     Spain  Female   41   \n",
       "2          3    15619304      Onio          502    France  Female   42   \n",
       "3          4    15701354      Boni          699    France  Female   39   \n",
       "4          5    15737888  Mitchell          850     Spain  Female   43   \n",
       "\n",
       "   Tenure    Balance  NumOfProducts  HasCrCard  IsActiveMember  \\\n",
       "0       2       0.00              1          1               1   \n",
       "1       1   83807.86              1          0               1   \n",
       "2       8  159660.80              3          1               0   \n",
       "3       1       0.00              2          0               0   \n",
       "4       2  125510.82              1          1               1   \n",
       "\n",
       "   EstimatedSalary  Exited  Salaries_Grouped  Balances_Grouped  \n",
       "0        101348.88       1                 5                 1  \n",
       "1        112542.58       0                 5                 4  \n",
       "2        113931.57       1                 5                 7  \n",
       "3         93826.63       0                 4                 1  \n",
       "4         79084.10       0                 4                 6  "
      ]
     },
     "execution_count": 81,
     "metadata": {},
     "output_type": "execute_result"
    }
   ],
   "source": [
    "bank_df.head()"
   ]
  },
  {
   "cell_type": "code",
   "execution_count": 82,
   "id": "dad0243a",
   "metadata": {},
   "outputs": [],
   "source": [
    "#Creating a column called Ages grouped\n",
    "\n",
    "\n",
    "def age (number):\n",
    "    if number <= 30:\n",
    "        return 1\n",
    "    elif number <= 50:\n",
    "        return 2\n",
    "    elif number <= 75:\n",
    "        return 3\n",
    "    else:\n",
    "        return 4\n",
    "    \n",
    "bank_df['Ages_Grouped'] = bank_df['Age'].apply(age)"
   ]
  },
  {
   "cell_type": "code",
   "execution_count": 83,
   "id": "112aebfb",
   "metadata": {},
   "outputs": [
    {
     "data": {
      "text/html": [
       "<div>\n",
       "<style scoped>\n",
       "    .dataframe tbody tr th:only-of-type {\n",
       "        vertical-align: middle;\n",
       "    }\n",
       "\n",
       "    .dataframe tbody tr th {\n",
       "        vertical-align: top;\n",
       "    }\n",
       "\n",
       "    .dataframe thead th {\n",
       "        text-align: right;\n",
       "    }\n",
       "</style>\n",
       "<table border=\"1\" class=\"dataframe\">\n",
       "  <thead>\n",
       "    <tr style=\"text-align: right;\">\n",
       "      <th></th>\n",
       "      <th>RowNumber</th>\n",
       "      <th>CustomerId</th>\n",
       "      <th>Surname</th>\n",
       "      <th>CreditScore</th>\n",
       "      <th>Geography</th>\n",
       "      <th>Gender</th>\n",
       "      <th>Age</th>\n",
       "      <th>Tenure</th>\n",
       "      <th>Balance</th>\n",
       "      <th>NumOfProducts</th>\n",
       "      <th>HasCrCard</th>\n",
       "      <th>IsActiveMember</th>\n",
       "      <th>EstimatedSalary</th>\n",
       "      <th>Exited</th>\n",
       "      <th>Salaries_Grouped</th>\n",
       "      <th>Balances_Grouped</th>\n",
       "      <th>Ages_Grouped</th>\n",
       "    </tr>\n",
       "  </thead>\n",
       "  <tbody>\n",
       "    <tr>\n",
       "      <th>0</th>\n",
       "      <td>1</td>\n",
       "      <td>15634602</td>\n",
       "      <td>Hargrave</td>\n",
       "      <td>619</td>\n",
       "      <td>France</td>\n",
       "      <td>Female</td>\n",
       "      <td>42</td>\n",
       "      <td>2</td>\n",
       "      <td>0.00</td>\n",
       "      <td>1</td>\n",
       "      <td>1</td>\n",
       "      <td>1</td>\n",
       "      <td>101348.88</td>\n",
       "      <td>1</td>\n",
       "      <td>5</td>\n",
       "      <td>1</td>\n",
       "      <td>2</td>\n",
       "    </tr>\n",
       "    <tr>\n",
       "      <th>1</th>\n",
       "      <td>2</td>\n",
       "      <td>15647311</td>\n",
       "      <td>Hill</td>\n",
       "      <td>608</td>\n",
       "      <td>Spain</td>\n",
       "      <td>Female</td>\n",
       "      <td>41</td>\n",
       "      <td>1</td>\n",
       "      <td>83807.86</td>\n",
       "      <td>1</td>\n",
       "      <td>0</td>\n",
       "      <td>1</td>\n",
       "      <td>112542.58</td>\n",
       "      <td>0</td>\n",
       "      <td>5</td>\n",
       "      <td>4</td>\n",
       "      <td>2</td>\n",
       "    </tr>\n",
       "    <tr>\n",
       "      <th>2</th>\n",
       "      <td>3</td>\n",
       "      <td>15619304</td>\n",
       "      <td>Onio</td>\n",
       "      <td>502</td>\n",
       "      <td>France</td>\n",
       "      <td>Female</td>\n",
       "      <td>42</td>\n",
       "      <td>8</td>\n",
       "      <td>159660.80</td>\n",
       "      <td>3</td>\n",
       "      <td>1</td>\n",
       "      <td>0</td>\n",
       "      <td>113931.57</td>\n",
       "      <td>1</td>\n",
       "      <td>5</td>\n",
       "      <td>7</td>\n",
       "      <td>2</td>\n",
       "    </tr>\n",
       "    <tr>\n",
       "      <th>3</th>\n",
       "      <td>4</td>\n",
       "      <td>15701354</td>\n",
       "      <td>Boni</td>\n",
       "      <td>699</td>\n",
       "      <td>France</td>\n",
       "      <td>Female</td>\n",
       "      <td>39</td>\n",
       "      <td>1</td>\n",
       "      <td>0.00</td>\n",
       "      <td>2</td>\n",
       "      <td>0</td>\n",
       "      <td>0</td>\n",
       "      <td>93826.63</td>\n",
       "      <td>0</td>\n",
       "      <td>4</td>\n",
       "      <td>1</td>\n",
       "      <td>2</td>\n",
       "    </tr>\n",
       "    <tr>\n",
       "      <th>4</th>\n",
       "      <td>5</td>\n",
       "      <td>15737888</td>\n",
       "      <td>Mitchell</td>\n",
       "      <td>850</td>\n",
       "      <td>Spain</td>\n",
       "      <td>Female</td>\n",
       "      <td>43</td>\n",
       "      <td>2</td>\n",
       "      <td>125510.82</td>\n",
       "      <td>1</td>\n",
       "      <td>1</td>\n",
       "      <td>1</td>\n",
       "      <td>79084.10</td>\n",
       "      <td>0</td>\n",
       "      <td>4</td>\n",
       "      <td>6</td>\n",
       "      <td>2</td>\n",
       "    </tr>\n",
       "  </tbody>\n",
       "</table>\n",
       "</div>"
      ],
      "text/plain": [
       "   RowNumber  CustomerId   Surname  CreditScore Geography  Gender  Age  \\\n",
       "0          1    15634602  Hargrave          619    France  Female   42   \n",
       "1          2    15647311      Hill          608     Spain  Female   41   \n",
       "2          3    15619304      Onio          502    France  Female   42   \n",
       "3          4    15701354      Boni          699    France  Female   39   \n",
       "4          5    15737888  Mitchell          850     Spain  Female   43   \n",
       "\n",
       "   Tenure    Balance  NumOfProducts  HasCrCard  IsActiveMember  \\\n",
       "0       2       0.00              1          1               1   \n",
       "1       1   83807.86              1          0               1   \n",
       "2       8  159660.80              3          1               0   \n",
       "3       1       0.00              2          0               0   \n",
       "4       2  125510.82              1          1               1   \n",
       "\n",
       "   EstimatedSalary  Exited  Salaries_Grouped  Balances_Grouped  Ages_Grouped  \n",
       "0        101348.88       1                 5                 1             2  \n",
       "1        112542.58       0                 5                 4             2  \n",
       "2        113931.57       1                 5                 7             2  \n",
       "3         93826.63       0                 4                 1             2  \n",
       "4         79084.10       0                 4                 6             2  "
      ]
     },
     "execution_count": 83,
     "metadata": {},
     "output_type": "execute_result"
    }
   ],
   "source": [
    "bank_df.head()"
   ]
  },
  {
   "cell_type": "code",
   "execution_count": 84,
   "id": "630dce06",
   "metadata": {},
   "outputs": [
    {
     "data": {
      "text/plain": [
       "<AxesSubplot:xlabel='Ages_Grouped', ylabel='count'>"
      ]
     },
     "execution_count": 84,
     "metadata": {},
     "output_type": "execute_result"
    },
    {
     "data": {
      "image/png": "[encoded data removed]",
      "text/plain": [
       "<Figure size 432x288 with 1 Axes>"
      ]
     },
     "metadata": {
      "needs_background": "light"
     },
     "output_type": "display_data"
    }
   ],
   "source": [
    "sns.countplot(data=bank_df, x='Ages_Grouped')"
   ]
  },
  {
   "cell_type": "code",
   "execution_count": 85,
   "id": "f67cc21b",
   "metadata": {},
   "outputs": [],
   "source": [
    "old_age_df = bank_df[bank_df['Age'] > 75]"
   ]
  },
  {
   "cell_type": "code",
   "execution_count": 86,
   "id": "624cc8c9",
   "metadata": {},
   "outputs": [
    {
     "data": {
      "text/plain": [
       "10"
      ]
     },
     "execution_count": 86,
     "metadata": {},
     "output_type": "execute_result"
    }
   ],
   "source": [
    "bank_df['Tenure'].max()"
   ]
  },
  {
   "cell_type": "code",
   "execution_count": 87,
   "id": "0933c464",
   "metadata": {},
   "outputs": [
    {
     "data": {
      "text/plain": [
       "0"
      ]
     },
     "execution_count": 87,
     "metadata": {},
     "output_type": "execute_result"
    }
   ],
   "source": [
    "bank_df['Tenure'].min()"
   ]
  },
  {
   "cell_type": "code",
   "execution_count": 88,
   "id": "bc827af1",
   "metadata": {},
   "outputs": [
    {
     "data": {
      "text/plain": [
       "<AxesSubplot:xlabel='Tenure', ylabel='count'>"
      ]
     },
     "execution_count": 88,
     "metadata": {},
     "output_type": "execute_result"
    },
    {
     "data": {
      "image/png": "[encoded data removed]",
      "text/plain": [
       "<Figure size 432x288 with 1 Axes>"
      ]
     },
     "metadata": {
      "needs_background": "light"
     },
     "output_type": "display_data"
    }
   ],
   "source": [
    "sns.countplot(data=bank_df, x='Tenure')\n",
    "\n",
    "#How long people stay at the bank as a member"
   ]
  },
  {
   "cell_type": "code",
   "execution_count": 89,
   "id": "0c5d3a69",
   "metadata": {},
   "outputs": [
    {
     "data": {
      "text/plain": [
       "<AxesSubplot:xlabel='NumOfProducts', ylabel='count'>"
      ]
     },
     "execution_count": 89,
     "metadata": {},
     "output_type": "execute_result"
    },
    {
     "data": {
      "image/png": "[encoded data removed]",
      "text/plain": [
       "<Figure size 432x288 with 1 Axes>"
      ]
     },
     "metadata": {
      "needs_background": "light"
     },
     "output_type": "display_data"
    }
   ],
   "source": [
    "sns.countplot(data=bank_df, x='NumOfProducts')"
   ]
  },
  {
   "cell_type": "code",
   "execution_count": 90,
   "id": "a46be9e1",
   "metadata": {},
   "outputs": [
    {
     "data": {
      "text/plain": [
       "<matplotlib.legend.Legend at 0x212199e7040>"
      ]
     },
     "execution_count": 90,
     "metadata": {},
     "output_type": "execute_result"
    },
    {
     "data": {
      "image/png": "[encoded data removed]",
      "text/plain": [
       "<Figure size 432x288 with 1 Axes>"
      ]
     },
     "metadata": {
      "needs_background": "light"
     },
     "output_type": "display_data"
    }
   ],
   "source": [
    "sns.countplot(data=bank_df, x='Tenure', hue='Exited')\n",
    "plt.legend(bbox_to_anchor = [1.0, 1.0], title='Members Churned')\n",
    "\n",
    "#Could Potential increase what the bank gives for keeping money in savings to encourage people to stay longer"
   ]
  },
  {
   "cell_type": "code",
   "execution_count": 91,
   "id": "7716259d",
   "metadata": {},
   "outputs": [
    {
     "data": {
      "text/plain": [
       "<AxesSubplot:xlabel='HasCrCard', ylabel='count'>"
      ]
     },
     "execution_count": 91,
     "metadata": {},
     "output_type": "execute_result"
    },
    {
     "data": {
      "image/png": "[encoded data removed]",
      "text/plain": [
       "<Figure size 432x288 with 1 Axes>"
      ]
     },
     "metadata": {
      "needs_background": "light"
     },
     "output_type": "display_data"
    }
   ],
   "source": [
    "sns.countplot(data=bank_df, x='HasCrCard', hue='Exited')"
   ]
  },
  {
   "cell_type": "code",
   "execution_count": 92,
   "id": "433af214",
   "metadata": {},
   "outputs": [],
   "source": [
    "low_credit_score = bank_df[bank_df['CreditScore']<=580]\n",
    "\n",
    "high_credit_score = bank_df[bank_df['CreditScore']>=740]"
   ]
  },
  {
   "cell_type": "code",
   "execution_count": 93,
   "id": "487da1b1",
   "metadata": {},
   "outputs": [
    {
     "data": {
      "text/plain": [
       "850"
      ]
     },
     "execution_count": 93,
     "metadata": {},
     "output_type": "execute_result"
    }
   ],
   "source": [
    "bank_df['CreditScore'].max()"
   ]
  },
  {
   "cell_type": "code",
   "execution_count": 94,
   "id": "c7ae9c86",
   "metadata": {},
   "outputs": [
    {
     "data": {
      "text/plain": [
       "350"
      ]
     },
     "execution_count": 94,
     "metadata": {},
     "output_type": "execute_result"
    }
   ],
   "source": [
    "bank_df['CreditScore'].min()"
   ]
  },
  {
   "cell_type": "code",
   "execution_count": 95,
   "id": "ca28c895",
   "metadata": {},
   "outputs": [
    {
     "data": {
      "text/html": [
       "<div>\n",
       "<style scoped>\n",
       "    .dataframe tbody tr th:only-of-type {\n",
       "        vertical-align: middle;\n",
       "    }\n",
       "\n",
       "    .dataframe tbody tr th {\n",
       "        vertical-align: top;\n",
       "    }\n",
       "\n",
       "    .dataframe thead th {\n",
       "        text-align: right;\n",
       "    }\n",
       "</style>\n",
       "<table border=\"1\" class=\"dataframe\">\n",
       "  <thead>\n",
       "    <tr style=\"text-align: right;\">\n",
       "      <th></th>\n",
       "      <th>RowNumber</th>\n",
       "      <th>CustomerId</th>\n",
       "      <th>Surname</th>\n",
       "      <th>CreditScore</th>\n",
       "      <th>Geography</th>\n",
       "      <th>Gender</th>\n",
       "      <th>Age</th>\n",
       "      <th>Tenure</th>\n",
       "      <th>Balance</th>\n",
       "      <th>NumOfProducts</th>\n",
       "      <th>HasCrCard</th>\n",
       "      <th>IsActiveMember</th>\n",
       "      <th>EstimatedSalary</th>\n",
       "      <th>Exited</th>\n",
       "      <th>Salaries_Grouped</th>\n",
       "      <th>Balances_Grouped</th>\n",
       "      <th>Ages_Grouped</th>\n",
       "    </tr>\n",
       "  </thead>\n",
       "  <tbody>\n",
       "    <tr>\n",
       "      <th>0</th>\n",
       "      <td>1</td>\n",
       "      <td>15634602</td>\n",
       "      <td>Hargrave</td>\n",
       "      <td>619</td>\n",
       "      <td>France</td>\n",
       "      <td>Female</td>\n",
       "      <td>42</td>\n",
       "      <td>2</td>\n",
       "      <td>0.00</td>\n",
       "      <td>1</td>\n",
       "      <td>1</td>\n",
       "      <td>1</td>\n",
       "      <td>101348.88</td>\n",
       "      <td>1</td>\n",
       "      <td>5</td>\n",
       "      <td>1</td>\n",
       "      <td>2</td>\n",
       "    </tr>\n",
       "    <tr>\n",
       "      <th>1</th>\n",
       "      <td>2</td>\n",
       "      <td>15647311</td>\n",
       "      <td>Hill</td>\n",
       "      <td>608</td>\n",
       "      <td>Spain</td>\n",
       "      <td>Female</td>\n",
       "      <td>41</td>\n",
       "      <td>1</td>\n",
       "      <td>83807.86</td>\n",
       "      <td>1</td>\n",
       "      <td>0</td>\n",
       "      <td>1</td>\n",
       "      <td>112542.58</td>\n",
       "      <td>0</td>\n",
       "      <td>5</td>\n",
       "      <td>4</td>\n",
       "      <td>2</td>\n",
       "    </tr>\n",
       "    <tr>\n",
       "      <th>2</th>\n",
       "      <td>3</td>\n",
       "      <td>15619304</td>\n",
       "      <td>Onio</td>\n",
       "      <td>502</td>\n",
       "      <td>France</td>\n",
       "      <td>Female</td>\n",
       "      <td>42</td>\n",
       "      <td>8</td>\n",
       "      <td>159660.80</td>\n",
       "      <td>3</td>\n",
       "      <td>1</td>\n",
       "      <td>0</td>\n",
       "      <td>113931.57</td>\n",
       "      <td>1</td>\n",
       "      <td>5</td>\n",
       "      <td>7</td>\n",
       "      <td>2</td>\n",
       "    </tr>\n",
       "    <tr>\n",
       "      <th>3</th>\n",
       "      <td>4</td>\n",
       "      <td>15701354</td>\n",
       "      <td>Boni</td>\n",
       "      <td>699</td>\n",
       "      <td>France</td>\n",
       "      <td>Female</td>\n",
       "      <td>39</td>\n",
       "      <td>1</td>\n",
       "      <td>0.00</td>\n",
       "      <td>2</td>\n",
       "      <td>0</td>\n",
       "      <td>0</td>\n",
       "      <td>93826.63</td>\n",
       "      <td>0</td>\n",
       "      <td>4</td>\n",
       "      <td>1</td>\n",
       "      <td>2</td>\n",
       "    </tr>\n",
       "    <tr>\n",
       "      <th>4</th>\n",
       "      <td>5</td>\n",
       "      <td>15737888</td>\n",
       "      <td>Mitchell</td>\n",
       "      <td>850</td>\n",
       "      <td>Spain</td>\n",
       "      <td>Female</td>\n",
       "      <td>43</td>\n",
       "      <td>2</td>\n",
       "      <td>125510.82</td>\n",
       "      <td>1</td>\n",
       "      <td>1</td>\n",
       "      <td>1</td>\n",
       "      <td>79084.10</td>\n",
       "      <td>0</td>\n",
       "      <td>4</td>\n",
       "      <td>6</td>\n",
       "      <td>2</td>\n",
       "    </tr>\n",
       "  </tbody>\n",
       "</table>\n",
       "</div>"
      ],
      "text/plain": [
       "   RowNumber  CustomerId   Surname  CreditScore Geography  Gender  Age  \\\n",
       "0          1    15634602  Hargrave          619    France  Female   42   \n",
       "1          2    15647311      Hill          608     Spain  Female   41   \n",
       "2          3    15619304      Onio          502    France  Female   42   \n",
       "3          4    15701354      Boni          699    France  Female   39   \n",
       "4          5    15737888  Mitchell          850     Spain  Female   43   \n",
       "\n",
       "   Tenure    Balance  NumOfProducts  HasCrCard  IsActiveMember  \\\n",
       "0       2       0.00              1          1               1   \n",
       "1       1   83807.86              1          0               1   \n",
       "2       8  159660.80              3          1               0   \n",
       "3       1       0.00              2          0               0   \n",
       "4       2  125510.82              1          1               1   \n",
       "\n",
       "   EstimatedSalary  Exited  Salaries_Grouped  Balances_Grouped  Ages_Grouped  \n",
       "0        101348.88       1                 5                 1             2  \n",
       "1        112542.58       0                 5                 4             2  \n",
       "2        113931.57       1                 5                 7             2  \n",
       "3         93826.63       0                 4                 1             2  \n",
       "4         79084.10       0                 4                 6             2  "
      ]
     },
     "execution_count": 95,
     "metadata": {},
     "output_type": "execute_result"
    }
   ],
   "source": [
    "bank_df.head()"
   ]
  },
  {
   "cell_type": "code",
   "execution_count": 96,
   "id": "61a4b058",
   "metadata": {},
   "outputs": [
    {
     "data": {
      "text/plain": [
       "RowNumber           0\n",
       "CustomerId          0\n",
       "Surname             0\n",
       "CreditScore         0\n",
       "Geography           0\n",
       "Gender              0\n",
       "Age                 0\n",
       "Tenure              0\n",
       "Balance             0\n",
       "NumOfProducts       0\n",
       "HasCrCard           0\n",
       "IsActiveMember      0\n",
       "EstimatedSalary     0\n",
       "Exited              0\n",
       "Salaries_Grouped    0\n",
       "Balances_Grouped    0\n",
       "Ages_Grouped        0\n",
       "dtype: int64"
      ]
     },
     "execution_count": 96,
     "metadata": {},
     "output_type": "execute_result"
    }
   ],
   "source": [
    "#Since we created all these problems I am going to double check and make sure I labeled everything\n",
    "\n",
    "#We should have no missing data\n",
    "\n",
    "bank_df.isnull().sum()"
   ]
  },
  {
   "cell_type": "code",
   "execution_count": 97,
   "id": "3f9f994c",
   "metadata": {},
   "outputs": [],
   "source": [
    "def credit (scores):\n",
    "    if scores <= 580:\n",
    "        return 'Low'\n",
    "    elif scores <= 739:\n",
    "        return 'Average'\n",
    "    else:\n",
    "        return 'High'\n",
    "    \n",
    "bank_df['Credit_Score_Groups'] = bank_df['CreditScore'].apply(credit)"
   ]
  },
  {
   "cell_type": "code",
   "execution_count": 98,
   "id": "16bf87d3",
   "metadata": {},
   "outputs": [
    {
     "data": {
      "text/plain": [
       "RowNumber              0\n",
       "CustomerId             0\n",
       "Surname                0\n",
       "CreditScore            0\n",
       "Geography              0\n",
       "Gender                 0\n",
       "Age                    0\n",
       "Tenure                 0\n",
       "Balance                0\n",
       "NumOfProducts          0\n",
       "HasCrCard              0\n",
       "IsActiveMember         0\n",
       "EstimatedSalary        0\n",
       "Exited                 0\n",
       "Salaries_Grouped       0\n",
       "Balances_Grouped       0\n",
       "Ages_Grouped           0\n",
       "Credit_Score_Groups    0\n",
       "dtype: int64"
      ]
     },
     "execution_count": 98,
     "metadata": {},
     "output_type": "execute_result"
    }
   ],
   "source": [
    "bank_df.isnull().sum()"
   ]
  },
  {
   "cell_type": "code",
   "execution_count": 99,
   "id": "9da80be4",
   "metadata": {},
   "outputs": [
    {
     "data": {
      "text/plain": [
       "<AxesSubplot:xlabel='Credit_Score_Groups', ylabel='count'>"
      ]
     },
     "execution_count": 99,
     "metadata": {},
     "output_type": "execute_result"
    },
    {
     "data": {
      "image/png": "[encoded data removed]",
      "text/plain": [
       "<Figure size 432x288 with 1 Axes>"
      ]
     },
     "metadata": {
      "needs_background": "light"
     },
     "output_type": "display_data"
    }
   ],
   "source": [
    "sns.countplot(data=bank_df, x='Credit_Score_Groups', hue='Exited')\n",
    "\n",
    "#Bank and had incentives for when new customers apply for an account or loan if you credit score is average or above"
   ]
  },
  {
   "cell_type": "code",
   "execution_count": 100,
   "id": "06ca15b4",
   "metadata": {},
   "outputs": [
    {
     "data": {
      "text/plain": [
       "<AxesSubplot:xlabel='NumOfProducts', ylabel='count'>"
      ]
     },
     "execution_count": 100,
     "metadata": {},
     "output_type": "execute_result"
    },
    {
     "data": {
      "image/png": "[encoded data removed]",
      "text/plain": [
       "<Figure size 432x288 with 1 Axes>"
      ]
     },
     "metadata": {
      "needs_background": "light"
     },
     "output_type": "display_data"
    }
   ],
   "source": [
    "sns.countplot(data=bank_df, x='NumOfProducts', hue='Exited')\n",
    "\n",
    "#This could show the bank could start advertising incentives to have both a checking and savings account\n",
    "#Customers who already have a checking account with then and can be incentivsed to get a loan with them as well."
   ]
  },
  {
   "cell_type": "code",
   "execution_count": 101,
   "id": "71c5dbc3",
   "metadata": {},
   "outputs": [
    {
     "data": {
      "text/plain": [
       "<AxesSubplot:xlabel='Balances_Grouped', ylabel='count'>"
      ]
     },
     "execution_count": 101,
     "metadata": {},
     "output_type": "execute_result"
    },
    {
     "data": {
      "image/png": "[encoded data removed]",
      "text/plain": [
       "<Figure size 432x288 with 1 Axes>"
      ]
     },
     "metadata": {
      "needs_background": "light"
     },
     "output_type": "display_data"
    }
   ],
   "source": [
    "sns.countplot(data=bank_df, x='Balances_Grouped', hue='Exited')"
   ]
  },
  {
   "cell_type": "code",
   "execution_count": 102,
   "id": "e416dc2b",
   "metadata": {},
   "outputs": [
    {
     "data": {
      "text/html": [
       "<div>\n",
       "<style scoped>\n",
       "    .dataframe tbody tr th:only-of-type {\n",
       "        vertical-align: middle;\n",
       "    }\n",
       "\n",
       "    .dataframe tbody tr th {\n",
       "        vertical-align: top;\n",
       "    }\n",
       "\n",
       "    .dataframe thead th {\n",
       "        text-align: right;\n",
       "    }\n",
       "</style>\n",
       "<table border=\"1\" class=\"dataframe\">\n",
       "  <thead>\n",
       "    <tr style=\"text-align: right;\">\n",
       "      <th></th>\n",
       "      <th>RowNumber</th>\n",
       "      <th>CustomerId</th>\n",
       "      <th>CreditScore</th>\n",
       "      <th>Age</th>\n",
       "      <th>Tenure</th>\n",
       "      <th>Balance</th>\n",
       "      <th>NumOfProducts</th>\n",
       "      <th>HasCrCard</th>\n",
       "      <th>IsActiveMember</th>\n",
       "      <th>EstimatedSalary</th>\n",
       "      <th>Exited</th>\n",
       "      <th>Salaries_Grouped</th>\n",
       "      <th>Balances_Grouped</th>\n",
       "      <th>Ages_Grouped</th>\n",
       "    </tr>\n",
       "  </thead>\n",
       "  <tbody>\n",
       "    <tr>\n",
       "      <th>count</th>\n",
       "      <td>10000.00000</td>\n",
       "      <td>1.000000e+04</td>\n",
       "      <td>10000.000000</td>\n",
       "      <td>10000.000000</td>\n",
       "      <td>10000.000000</td>\n",
       "      <td>10000.000000</td>\n",
       "      <td>10000.000000</td>\n",
       "      <td>10000.00000</td>\n",
       "      <td>10000.000000</td>\n",
       "      <td>10000.000000</td>\n",
       "      <td>10000.000000</td>\n",
       "      <td>10000.000000</td>\n",
       "      <td>10000.000000</td>\n",
       "      <td>10000.000000</td>\n",
       "    </tr>\n",
       "    <tr>\n",
       "      <th>mean</th>\n",
       "      <td>5000.50000</td>\n",
       "      <td>1.569094e+07</td>\n",
       "      <td>650.528800</td>\n",
       "      <td>38.921800</td>\n",
       "      <td>5.012800</td>\n",
       "      <td>76485.889288</td>\n",
       "      <td>1.530200</td>\n",
       "      <td>0.70550</td>\n",
       "      <td>0.515100</td>\n",
       "      <td>100090.239881</td>\n",
       "      <td>0.203700</td>\n",
       "      <td>4.506700</td>\n",
       "      <td>3.737400</td>\n",
       "      <td>1.933800</td>\n",
       "    </tr>\n",
       "    <tr>\n",
       "      <th>std</th>\n",
       "      <td>2886.89568</td>\n",
       "      <td>7.193619e+04</td>\n",
       "      <td>96.653299</td>\n",
       "      <td>10.487806</td>\n",
       "      <td>2.892174</td>\n",
       "      <td>62397.405202</td>\n",
       "      <td>0.581654</td>\n",
       "      <td>0.45584</td>\n",
       "      <td>0.499797</td>\n",
       "      <td>57510.492818</td>\n",
       "      <td>0.402769</td>\n",
       "      <td>2.278393</td>\n",
       "      <td>2.280386</td>\n",
       "      <td>0.576238</td>\n",
       "    </tr>\n",
       "    <tr>\n",
       "      <th>min</th>\n",
       "      <td>1.00000</td>\n",
       "      <td>1.556570e+07</td>\n",
       "      <td>350.000000</td>\n",
       "      <td>18.000000</td>\n",
       "      <td>0.000000</td>\n",
       "      <td>0.000000</td>\n",
       "      <td>1.000000</td>\n",
       "      <td>0.00000</td>\n",
       "      <td>0.000000</td>\n",
       "      <td>11.580000</td>\n",
       "      <td>0.000000</td>\n",
       "      <td>1.000000</td>\n",
       "      <td>1.000000</td>\n",
       "      <td>1.000000</td>\n",
       "    </tr>\n",
       "    <tr>\n",
       "      <th>25%</th>\n",
       "      <td>2500.75000</td>\n",
       "      <td>1.562853e+07</td>\n",
       "      <td>584.000000</td>\n",
       "      <td>32.000000</td>\n",
       "      <td>3.000000</td>\n",
       "      <td>0.000000</td>\n",
       "      <td>1.000000</td>\n",
       "      <td>0.00000</td>\n",
       "      <td>0.000000</td>\n",
       "      <td>51002.110000</td>\n",
       "      <td>0.000000</td>\n",
       "      <td>3.000000</td>\n",
       "      <td>1.000000</td>\n",
       "      <td>2.000000</td>\n",
       "    </tr>\n",
       "    <tr>\n",
       "      <th>50%</th>\n",
       "      <td>5000.50000</td>\n",
       "      <td>1.569074e+07</td>\n",
       "      <td>652.000000</td>\n",
       "      <td>37.000000</td>\n",
       "      <td>5.000000</td>\n",
       "      <td>97198.540000</td>\n",
       "      <td>1.000000</td>\n",
       "      <td>1.00000</td>\n",
       "      <td>1.000000</td>\n",
       "      <td>100193.915000</td>\n",
       "      <td>0.000000</td>\n",
       "      <td>5.000000</td>\n",
       "      <td>4.000000</td>\n",
       "      <td>2.000000</td>\n",
       "    </tr>\n",
       "    <tr>\n",
       "      <th>75%</th>\n",
       "      <td>7500.25000</td>\n",
       "      <td>1.575323e+07</td>\n",
       "      <td>718.000000</td>\n",
       "      <td>44.000000</td>\n",
       "      <td>7.000000</td>\n",
       "      <td>127644.240000</td>\n",
       "      <td>2.000000</td>\n",
       "      <td>1.00000</td>\n",
       "      <td>1.000000</td>\n",
       "      <td>149388.247500</td>\n",
       "      <td>0.000000</td>\n",
       "      <td>6.000000</td>\n",
       "      <td>6.000000</td>\n",
       "      <td>2.000000</td>\n",
       "    </tr>\n",
       "    <tr>\n",
       "      <th>max</th>\n",
       "      <td>10000.00000</td>\n",
       "      <td>1.581569e+07</td>\n",
       "      <td>850.000000</td>\n",
       "      <td>92.000000</td>\n",
       "      <td>10.000000</td>\n",
       "      <td>250898.090000</td>\n",
       "      <td>4.000000</td>\n",
       "      <td>1.00000</td>\n",
       "      <td>1.000000</td>\n",
       "      <td>199992.480000</td>\n",
       "      <td>1.000000</td>\n",
       "      <td>8.000000</td>\n",
       "      <td>8.000000</td>\n",
       "      <td>4.000000</td>\n",
       "    </tr>\n",
       "  </tbody>\n",
       "</table>\n",
       "</div>"
      ],
      "text/plain": [
       "         RowNumber    CustomerId   CreditScore           Age        Tenure  \\\n",
       "count  10000.00000  1.000000e+04  10000.000000  10000.000000  10000.000000   \n",
       "mean    5000.50000  1.569094e+07    650.528800     38.921800      5.012800   \n",
       "std     2886.89568  7.193619e+04     96.653299     10.487806      2.892174   \n",
       "min        1.00000  1.556570e+07    350.000000     18.000000      0.000000   \n",
       "25%     2500.75000  1.562853e+07    584.000000     32.000000      3.000000   \n",
       "50%     5000.50000  1.569074e+07    652.000000     37.000000      5.000000   \n",
       "75%     7500.25000  1.575323e+07    718.000000     44.000000      7.000000   \n",
       "max    10000.00000  1.581569e+07    850.000000     92.000000     10.000000   \n",
       "\n",
       "             Balance  NumOfProducts    HasCrCard  IsActiveMember  \\\n",
       "count   10000.000000   10000.000000  10000.00000    10000.000000   \n",
       "mean    76485.889288       1.530200      0.70550        0.515100   \n",
       "std     62397.405202       0.581654      0.45584        0.499797   \n",
       "min         0.000000       1.000000      0.00000        0.000000   \n",
       "25%         0.000000       1.000000      0.00000        0.000000   \n",
       "50%     97198.540000       1.000000      1.00000        1.000000   \n",
       "75%    127644.240000       2.000000      1.00000        1.000000   \n",
       "max    250898.090000       4.000000      1.00000        1.000000   \n",
       "\n",
       "       EstimatedSalary        Exited  Salaries_Grouped  Balances_Grouped  \\\n",
       "count     10000.000000  10000.000000      10000.000000      10000.000000   \n",
       "mean     100090.239881      0.203700          4.506700          3.737400   \n",
       "std       57510.492818      0.402769          2.278393          2.280386   \n",
       "min          11.580000      0.000000          1.000000          1.000000   \n",
       "25%       51002.110000      0.000000          3.000000          1.000000   \n",
       "50%      100193.915000      0.000000          5.000000          4.000000   \n",
       "75%      149388.247500      0.000000          6.000000          6.000000   \n",
       "max      199992.480000      1.000000          8.000000          8.000000   \n",
       "\n",
       "       Ages_Grouped  \n",
       "count  10000.000000  \n",
       "mean       1.933800  \n",
       "std        0.576238  \n",
       "min        1.000000  \n",
       "25%        2.000000  \n",
       "50%        2.000000  \n",
       "75%        2.000000  \n",
       "max        4.000000  "
      ]
     },
     "execution_count": 102,
     "metadata": {},
     "output_type": "execute_result"
    }
   ],
   "source": [
    "bank_df.describe()"
   ]
  },
  {
   "cell_type": "code",
   "execution_count": 103,
   "id": "35ab8bfc",
   "metadata": {},
   "outputs": [
    {
     "data": {
      "text/html": [
       "<div>\n",
       "<style scoped>\n",
       "    .dataframe tbody tr th:only-of-type {\n",
       "        vertical-align: middle;\n",
       "    }\n",
       "\n",
       "    .dataframe tbody tr th {\n",
       "        vertical-align: top;\n",
       "    }\n",
       "\n",
       "    .dataframe thead th {\n",
       "        text-align: right;\n",
       "    }\n",
       "</style>\n",
       "<table border=\"1\" class=\"dataframe\">\n",
       "  <thead>\n",
       "    <tr style=\"text-align: right;\">\n",
       "      <th></th>\n",
       "      <th>RowNumber</th>\n",
       "      <th>CustomerId</th>\n",
       "      <th>CreditScore</th>\n",
       "      <th>Age</th>\n",
       "      <th>Tenure</th>\n",
       "      <th>Balance</th>\n",
       "      <th>NumOfProducts</th>\n",
       "      <th>HasCrCard</th>\n",
       "      <th>IsActiveMember</th>\n",
       "      <th>EstimatedSalary</th>\n",
       "      <th>Exited</th>\n",
       "      <th>Salaries_Grouped</th>\n",
       "      <th>Balances_Grouped</th>\n",
       "      <th>Ages_Grouped</th>\n",
       "    </tr>\n",
       "  </thead>\n",
       "  <tbody>\n",
       "    <tr>\n",
       "      <th>RowNumber</th>\n",
       "      <td>1.000000</td>\n",
       "      <td>0.004202</td>\n",
       "      <td>0.005840</td>\n",
       "      <td>0.000783</td>\n",
       "      <td>-0.006495</td>\n",
       "      <td>-0.009067</td>\n",
       "      <td>0.007246</td>\n",
       "      <td>0.000599</td>\n",
       "      <td>0.012044</td>\n",
       "      <td>-0.005988</td>\n",
       "      <td>-0.016571</td>\n",
       "      <td>-0.004756</td>\n",
       "      <td>-0.009748</td>\n",
       "      <td>0.001059</td>\n",
       "    </tr>\n",
       "    <tr>\n",
       "      <th>CustomerId</th>\n",
       "      <td>0.004202</td>\n",
       "      <td>1.000000</td>\n",
       "      <td>0.005308</td>\n",
       "      <td>0.009497</td>\n",
       "      <td>-0.014883</td>\n",
       "      <td>-0.012419</td>\n",
       "      <td>0.016972</td>\n",
       "      <td>-0.014025</td>\n",
       "      <td>0.001665</td>\n",
       "      <td>0.015271</td>\n",
       "      <td>-0.006248</td>\n",
       "      <td>0.017185</td>\n",
       "      <td>-0.013567</td>\n",
       "      <td>0.014650</td>\n",
       "    </tr>\n",
       "    <tr>\n",
       "      <th>CreditScore</th>\n",
       "      <td>0.005840</td>\n",
       "      <td>0.005308</td>\n",
       "      <td>1.000000</td>\n",
       "      <td>-0.003965</td>\n",
       "      <td>0.000842</td>\n",
       "      <td>0.006268</td>\n",
       "      <td>0.012238</td>\n",
       "      <td>-0.005458</td>\n",
       "      <td>0.025651</td>\n",
       "      <td>-0.001384</td>\n",
       "      <td>-0.027094</td>\n",
       "      <td>-0.001914</td>\n",
       "      <td>0.004826</td>\n",
       "      <td>-0.002473</td>\n",
       "    </tr>\n",
       "    <tr>\n",
       "      <th>Age</th>\n",
       "      <td>0.000783</td>\n",
       "      <td>0.009497</td>\n",
       "      <td>-0.003965</td>\n",
       "      <td>1.000000</td>\n",
       "      <td>-0.009997</td>\n",
       "      <td>0.028308</td>\n",
       "      <td>-0.030680</td>\n",
       "      <td>-0.011721</td>\n",
       "      <td>0.085472</td>\n",
       "      <td>-0.007201</td>\n",
       "      <td>0.285323</td>\n",
       "      <td>-0.008165</td>\n",
       "      <td>0.025628</td>\n",
       "      <td>0.862226</td>\n",
       "    </tr>\n",
       "    <tr>\n",
       "      <th>Tenure</th>\n",
       "      <td>-0.006495</td>\n",
       "      <td>-0.014883</td>\n",
       "      <td>0.000842</td>\n",
       "      <td>-0.009997</td>\n",
       "      <td>1.000000</td>\n",
       "      <td>-0.012254</td>\n",
       "      <td>0.013444</td>\n",
       "      <td>0.022583</td>\n",
       "      <td>-0.028362</td>\n",
       "      <td>0.007784</td>\n",
       "      <td>-0.014001</td>\n",
       "      <td>0.007348</td>\n",
       "      <td>-0.013684</td>\n",
       "      <td>-0.009813</td>\n",
       "    </tr>\n",
       "    <tr>\n",
       "      <th>Balance</th>\n",
       "      <td>-0.009067</td>\n",
       "      <td>-0.012419</td>\n",
       "      <td>0.006268</td>\n",
       "      <td>0.028308</td>\n",
       "      <td>-0.012254</td>\n",
       "      <td>1.000000</td>\n",
       "      <td>-0.304180</td>\n",
       "      <td>-0.014858</td>\n",
       "      <td>-0.010084</td>\n",
       "      <td>0.012797</td>\n",
       "      <td>0.118533</td>\n",
       "      <td>0.010618</td>\n",
       "      <td>0.993905</td>\n",
       "      <td>0.028766</td>\n",
       "    </tr>\n",
       "    <tr>\n",
       "      <th>NumOfProducts</th>\n",
       "      <td>0.007246</td>\n",
       "      <td>0.016972</td>\n",
       "      <td>0.012238</td>\n",
       "      <td>-0.030680</td>\n",
       "      <td>0.013444</td>\n",
       "      <td>-0.304180</td>\n",
       "      <td>1.000000</td>\n",
       "      <td>0.003183</td>\n",
       "      <td>0.009612</td>\n",
       "      <td>0.014204</td>\n",
       "      <td>-0.047820</td>\n",
       "      <td>0.017242</td>\n",
       "      <td>-0.297806</td>\n",
       "      <td>-0.034018</td>\n",
       "    </tr>\n",
       "    <tr>\n",
       "      <th>HasCrCard</th>\n",
       "      <td>0.000599</td>\n",
       "      <td>-0.014025</td>\n",
       "      <td>-0.005458</td>\n",
       "      <td>-0.011721</td>\n",
       "      <td>0.022583</td>\n",
       "      <td>-0.014858</td>\n",
       "      <td>0.003183</td>\n",
       "      <td>1.000000</td>\n",
       "      <td>-0.011866</td>\n",
       "      <td>-0.009933</td>\n",
       "      <td>-0.007138</td>\n",
       "      <td>-0.011052</td>\n",
       "      <td>-0.013408</td>\n",
       "      <td>-0.010645</td>\n",
       "    </tr>\n",
       "    <tr>\n",
       "      <th>IsActiveMember</th>\n",
       "      <td>0.012044</td>\n",
       "      <td>0.001665</td>\n",
       "      <td>0.025651</td>\n",
       "      <td>0.085472</td>\n",
       "      <td>-0.028362</td>\n",
       "      <td>-0.010084</td>\n",
       "      <td>0.009612</td>\n",
       "      <td>-0.011866</td>\n",
       "      <td>1.000000</td>\n",
       "      <td>-0.011421</td>\n",
       "      <td>-0.156128</td>\n",
       "      <td>-0.010804</td>\n",
       "      <td>-0.011438</td>\n",
       "      <td>0.073964</td>\n",
       "    </tr>\n",
       "    <tr>\n",
       "      <th>EstimatedSalary</th>\n",
       "      <td>-0.005988</td>\n",
       "      <td>0.015271</td>\n",
       "      <td>-0.001384</td>\n",
       "      <td>-0.007201</td>\n",
       "      <td>0.007784</td>\n",
       "      <td>0.012797</td>\n",
       "      <td>0.014204</td>\n",
       "      <td>-0.009933</td>\n",
       "      <td>-0.011421</td>\n",
       "      <td>1.000000</td>\n",
       "      <td>0.012097</td>\n",
       "      <td>0.992010</td>\n",
       "      <td>0.013385</td>\n",
       "      <td>-0.015539</td>\n",
       "    </tr>\n",
       "    <tr>\n",
       "      <th>Exited</th>\n",
       "      <td>-0.016571</td>\n",
       "      <td>-0.006248</td>\n",
       "      <td>-0.027094</td>\n",
       "      <td>0.285323</td>\n",
       "      <td>-0.014001</td>\n",
       "      <td>0.118533</td>\n",
       "      <td>-0.047820</td>\n",
       "      <td>-0.007138</td>\n",
       "      <td>-0.156128</td>\n",
       "      <td>0.012097</td>\n",
       "      <td>1.000000</td>\n",
       "      <td>0.012408</td>\n",
       "      <td>0.115412</td>\n",
       "      <td>0.237366</td>\n",
       "    </tr>\n",
       "    <tr>\n",
       "      <th>Salaries_Grouped</th>\n",
       "      <td>-0.004756</td>\n",
       "      <td>0.017185</td>\n",
       "      <td>-0.001914</td>\n",
       "      <td>-0.008165</td>\n",
       "      <td>0.007348</td>\n",
       "      <td>0.010618</td>\n",
       "      <td>0.017242</td>\n",
       "      <td>-0.011052</td>\n",
       "      <td>-0.010804</td>\n",
       "      <td>0.992010</td>\n",
       "      <td>0.012408</td>\n",
       "      <td>1.000000</td>\n",
       "      <td>0.011176</td>\n",
       "      <td>-0.016649</td>\n",
       "    </tr>\n",
       "    <tr>\n",
       "      <th>Balances_Grouped</th>\n",
       "      <td>-0.009748</td>\n",
       "      <td>-0.013567</td>\n",
       "      <td>0.004826</td>\n",
       "      <td>0.025628</td>\n",
       "      <td>-0.013684</td>\n",
       "      <td>0.993905</td>\n",
       "      <td>-0.297806</td>\n",
       "      <td>-0.013408</td>\n",
       "      <td>-0.011438</td>\n",
       "      <td>0.013385</td>\n",
       "      <td>0.115412</td>\n",
       "      <td>0.011176</td>\n",
       "      <td>1.000000</td>\n",
       "      <td>0.026269</td>\n",
       "    </tr>\n",
       "    <tr>\n",
       "      <th>Ages_Grouped</th>\n",
       "      <td>0.001059</td>\n",
       "      <td>0.014650</td>\n",
       "      <td>-0.002473</td>\n",
       "      <td>0.862226</td>\n",
       "      <td>-0.009813</td>\n",
       "      <td>0.028766</td>\n",
       "      <td>-0.034018</td>\n",
       "      <td>-0.010645</td>\n",
       "      <td>0.073964</td>\n",
       "      <td>-0.015539</td>\n",
       "      <td>0.237366</td>\n",
       "      <td>-0.016649</td>\n",
       "      <td>0.026269</td>\n",
       "      <td>1.000000</td>\n",
       "    </tr>\n",
       "  </tbody>\n",
       "</table>\n",
       "</div>"
      ],
      "text/plain": [
       "                  RowNumber  CustomerId  CreditScore       Age    Tenure  \\\n",
       "RowNumber          1.000000    0.004202     0.005840  0.000783 -0.006495   \n",
       "CustomerId         0.004202    1.000000     0.005308  0.009497 -0.014883   \n",
       "CreditScore        0.005840    0.005308     1.000000 -0.003965  0.000842   \n",
       "Age                0.000783    0.009497    -0.003965  1.000000 -0.009997   \n",
       "Tenure            -0.006495   -0.014883     0.000842 -0.009997  1.000000   \n",
       "Balance           -0.009067   -0.012419     0.006268  0.028308 -0.012254   \n",
       "NumOfProducts      0.007246    0.016972     0.012238 -0.030680  0.013444   \n",
       "HasCrCard          0.000599   -0.014025    -0.005458 -0.011721  0.022583   \n",
       "IsActiveMember     0.012044    0.001665     0.025651  0.085472 -0.028362   \n",
       "EstimatedSalary   -0.005988    0.015271    -0.001384 -0.007201  0.007784   \n",
       "Exited            -0.016571   -0.006248    -0.027094  0.285323 -0.014001   \n",
       "Salaries_Grouped  -0.004756    0.017185    -0.001914 -0.008165  0.007348   \n",
       "Balances_Grouped  -0.009748   -0.013567     0.004826  0.025628 -0.013684   \n",
       "Ages_Grouped       0.001059    0.014650    -0.002473  0.862226 -0.009813   \n",
       "\n",
       "                   Balance  NumOfProducts  HasCrCard  IsActiveMember  \\\n",
       "RowNumber        -0.009067       0.007246   0.000599        0.012044   \n",
       "CustomerId       -0.012419       0.016972  -0.014025        0.001665   \n",
       "CreditScore       0.006268       0.012238  -0.005458        0.025651   \n",
       "Age               0.028308      -0.030680  -0.011721        0.085472   \n",
       "Tenure           -0.012254       0.013444   0.022583       -0.028362   \n",
       "Balance           1.000000      -0.304180  -0.014858       -0.010084   \n",
       "NumOfProducts    -0.304180       1.000000   0.003183        0.009612   \n",
       "HasCrCard        -0.014858       0.003183   1.000000       -0.011866   \n",
       "IsActiveMember   -0.010084       0.009612  -0.011866        1.000000   \n",
       "EstimatedSalary   0.012797       0.014204  -0.009933       -0.011421   \n",
       "Exited            0.118533      -0.047820  -0.007138       -0.156128   \n",
       "Salaries_Grouped  0.010618       0.017242  -0.011052       -0.010804   \n",
       "Balances_Grouped  0.993905      -0.297806  -0.013408       -0.011438   \n",
       "Ages_Grouped      0.028766      -0.034018  -0.010645        0.073964   \n",
       "\n",
       "                  EstimatedSalary    Exited  Salaries_Grouped  \\\n",
       "RowNumber               -0.005988 -0.016571         -0.004756   \n",
       "CustomerId               0.015271 -0.006248          0.017185   \n",
       "CreditScore             -0.001384 -0.027094         -0.001914   \n",
       "Age                     -0.007201  0.285323         -0.008165   \n",
       "Tenure                   0.007784 -0.014001          0.007348   \n",
       "Balance                  0.012797  0.118533          0.010618   \n",
       "NumOfProducts            0.014204 -0.047820          0.017242   \n",
       "HasCrCard               -0.009933 -0.007138         -0.011052   \n",
       "IsActiveMember          -0.011421 -0.156128         -0.010804   \n",
       "EstimatedSalary          1.000000  0.012097          0.992010   \n",
       "Exited                   0.012097  1.000000          0.012408   \n",
       "Salaries_Grouped         0.992010  0.012408          1.000000   \n",
       "Balances_Grouped         0.013385  0.115412          0.011176   \n",
       "Ages_Grouped            -0.015539  0.237366         -0.016649   \n",
       "\n",
       "                  Balances_Grouped  Ages_Grouped  \n",
       "RowNumber                -0.009748      0.001059  \n",
       "CustomerId               -0.013567      0.014650  \n",
       "CreditScore               0.004826     -0.002473  \n",
       "Age                       0.025628      0.862226  \n",
       "Tenure                   -0.013684     -0.009813  \n",
       "Balance                   0.993905      0.028766  \n",
       "NumOfProducts            -0.297806     -0.034018  \n",
       "HasCrCard                -0.013408     -0.010645  \n",
       "IsActiveMember           -0.011438      0.073964  \n",
       "EstimatedSalary           0.013385     -0.015539  \n",
       "Exited                    0.115412      0.237366  \n",
       "Salaries_Grouped          0.011176     -0.016649  \n",
       "Balances_Grouped          1.000000      0.026269  \n",
       "Ages_Grouped              0.026269      1.000000  "
      ]
     },
     "execution_count": 103,
     "metadata": {},
     "output_type": "execute_result"
    }
   ],
   "source": [
    "bank_df.corr()"
   ]
  },
  {
   "cell_type": "code",
   "execution_count": 104,
   "id": "12820b58",
   "metadata": {},
   "outputs": [
    {
     "data": {
      "text/html": [
       "<div>\n",
       "<style scoped>\n",
       "    .dataframe tbody tr th:only-of-type {\n",
       "        vertical-align: middle;\n",
       "    }\n",
       "\n",
       "    .dataframe tbody tr th {\n",
       "        vertical-align: top;\n",
       "    }\n",
       "\n",
       "    .dataframe thead th {\n",
       "        text-align: right;\n",
       "    }\n",
       "</style>\n",
       "<table border=\"1\" class=\"dataframe\">\n",
       "  <thead>\n",
       "    <tr style=\"text-align: right;\">\n",
       "      <th>Tenure</th>\n",
       "      <th>0</th>\n",
       "      <th>1</th>\n",
       "      <th>2</th>\n",
       "      <th>3</th>\n",
       "      <th>4</th>\n",
       "      <th>5</th>\n",
       "      <th>6</th>\n",
       "      <th>7</th>\n",
       "      <th>8</th>\n",
       "      <th>9</th>\n",
       "      <th>10</th>\n",
       "    </tr>\n",
       "  </thead>\n",
       "  <tbody>\n",
       "    <tr>\n",
       "      <th>RowNumber</th>\n",
       "      <td>95</td>\n",
       "      <td>232</td>\n",
       "      <td>201</td>\n",
       "      <td>213</td>\n",
       "      <td>203</td>\n",
       "      <td>209</td>\n",
       "      <td>196</td>\n",
       "      <td>177</td>\n",
       "      <td>197</td>\n",
       "      <td>213</td>\n",
       "      <td>101</td>\n",
       "    </tr>\n",
       "    <tr>\n",
       "      <th>CustomerId</th>\n",
       "      <td>95</td>\n",
       "      <td>232</td>\n",
       "      <td>201</td>\n",
       "      <td>213</td>\n",
       "      <td>203</td>\n",
       "      <td>209</td>\n",
       "      <td>196</td>\n",
       "      <td>177</td>\n",
       "      <td>197</td>\n",
       "      <td>213</td>\n",
       "      <td>101</td>\n",
       "    </tr>\n",
       "    <tr>\n",
       "      <th>Surname</th>\n",
       "      <td>95</td>\n",
       "      <td>232</td>\n",
       "      <td>201</td>\n",
       "      <td>213</td>\n",
       "      <td>203</td>\n",
       "      <td>209</td>\n",
       "      <td>196</td>\n",
       "      <td>177</td>\n",
       "      <td>197</td>\n",
       "      <td>213</td>\n",
       "      <td>101</td>\n",
       "    </tr>\n",
       "    <tr>\n",
       "      <th>CreditScore</th>\n",
       "      <td>95</td>\n",
       "      <td>232</td>\n",
       "      <td>201</td>\n",
       "      <td>213</td>\n",
       "      <td>203</td>\n",
       "      <td>209</td>\n",
       "      <td>196</td>\n",
       "      <td>177</td>\n",
       "      <td>197</td>\n",
       "      <td>213</td>\n",
       "      <td>101</td>\n",
       "    </tr>\n",
       "    <tr>\n",
       "      <th>Geography</th>\n",
       "      <td>95</td>\n",
       "      <td>232</td>\n",
       "      <td>201</td>\n",
       "      <td>213</td>\n",
       "      <td>203</td>\n",
       "      <td>209</td>\n",
       "      <td>196</td>\n",
       "      <td>177</td>\n",
       "      <td>197</td>\n",
       "      <td>213</td>\n",
       "      <td>101</td>\n",
       "    </tr>\n",
       "    <tr>\n",
       "      <th>Gender</th>\n",
       "      <td>95</td>\n",
       "      <td>232</td>\n",
       "      <td>201</td>\n",
       "      <td>213</td>\n",
       "      <td>203</td>\n",
       "      <td>209</td>\n",
       "      <td>196</td>\n",
       "      <td>177</td>\n",
       "      <td>197</td>\n",
       "      <td>213</td>\n",
       "      <td>101</td>\n",
       "    </tr>\n",
       "    <tr>\n",
       "      <th>Age</th>\n",
       "      <td>95</td>\n",
       "      <td>232</td>\n",
       "      <td>201</td>\n",
       "      <td>213</td>\n",
       "      <td>203</td>\n",
       "      <td>209</td>\n",
       "      <td>196</td>\n",
       "      <td>177</td>\n",
       "      <td>197</td>\n",
       "      <td>213</td>\n",
       "      <td>101</td>\n",
       "    </tr>\n",
       "    <tr>\n",
       "      <th>Balance</th>\n",
       "      <td>95</td>\n",
       "      <td>232</td>\n",
       "      <td>201</td>\n",
       "      <td>213</td>\n",
       "      <td>203</td>\n",
       "      <td>209</td>\n",
       "      <td>196</td>\n",
       "      <td>177</td>\n",
       "      <td>197</td>\n",
       "      <td>213</td>\n",
       "      <td>101</td>\n",
       "    </tr>\n",
       "    <tr>\n",
       "      <th>NumOfProducts</th>\n",
       "      <td>95</td>\n",
       "      <td>232</td>\n",
       "      <td>201</td>\n",
       "      <td>213</td>\n",
       "      <td>203</td>\n",
       "      <td>209</td>\n",
       "      <td>196</td>\n",
       "      <td>177</td>\n",
       "      <td>197</td>\n",
       "      <td>213</td>\n",
       "      <td>101</td>\n",
       "    </tr>\n",
       "    <tr>\n",
       "      <th>HasCrCard</th>\n",
       "      <td>95</td>\n",
       "      <td>232</td>\n",
       "      <td>201</td>\n",
       "      <td>213</td>\n",
       "      <td>203</td>\n",
       "      <td>209</td>\n",
       "      <td>196</td>\n",
       "      <td>177</td>\n",
       "      <td>197</td>\n",
       "      <td>213</td>\n",
       "      <td>101</td>\n",
       "    </tr>\n",
       "    <tr>\n",
       "      <th>IsActiveMember</th>\n",
       "      <td>95</td>\n",
       "      <td>232</td>\n",
       "      <td>201</td>\n",
       "      <td>213</td>\n",
       "      <td>203</td>\n",
       "      <td>209</td>\n",
       "      <td>196</td>\n",
       "      <td>177</td>\n",
       "      <td>197</td>\n",
       "      <td>213</td>\n",
       "      <td>101</td>\n",
       "    </tr>\n",
       "    <tr>\n",
       "      <th>EstimatedSalary</th>\n",
       "      <td>95</td>\n",
       "      <td>232</td>\n",
       "      <td>201</td>\n",
       "      <td>213</td>\n",
       "      <td>203</td>\n",
       "      <td>209</td>\n",
       "      <td>196</td>\n",
       "      <td>177</td>\n",
       "      <td>197</td>\n",
       "      <td>213</td>\n",
       "      <td>101</td>\n",
       "    </tr>\n",
       "    <tr>\n",
       "      <th>Salaries_Grouped</th>\n",
       "      <td>95</td>\n",
       "      <td>232</td>\n",
       "      <td>201</td>\n",
       "      <td>213</td>\n",
       "      <td>203</td>\n",
       "      <td>209</td>\n",
       "      <td>196</td>\n",
       "      <td>177</td>\n",
       "      <td>197</td>\n",
       "      <td>213</td>\n",
       "      <td>101</td>\n",
       "    </tr>\n",
       "    <tr>\n",
       "      <th>Balances_Grouped</th>\n",
       "      <td>95</td>\n",
       "      <td>232</td>\n",
       "      <td>201</td>\n",
       "      <td>213</td>\n",
       "      <td>203</td>\n",
       "      <td>209</td>\n",
       "      <td>196</td>\n",
       "      <td>177</td>\n",
       "      <td>197</td>\n",
       "      <td>213</td>\n",
       "      <td>101</td>\n",
       "    </tr>\n",
       "    <tr>\n",
       "      <th>Ages_Grouped</th>\n",
       "      <td>95</td>\n",
       "      <td>232</td>\n",
       "      <td>201</td>\n",
       "      <td>213</td>\n",
       "      <td>203</td>\n",
       "      <td>209</td>\n",
       "      <td>196</td>\n",
       "      <td>177</td>\n",
       "      <td>197</td>\n",
       "      <td>213</td>\n",
       "      <td>101</td>\n",
       "    </tr>\n",
       "    <tr>\n",
       "      <th>Credit_Score_Groups</th>\n",
       "      <td>95</td>\n",
       "      <td>232</td>\n",
       "      <td>201</td>\n",
       "      <td>213</td>\n",
       "      <td>203</td>\n",
       "      <td>209</td>\n",
       "      <td>196</td>\n",
       "      <td>177</td>\n",
       "      <td>197</td>\n",
       "      <td>213</td>\n",
       "      <td>101</td>\n",
       "    </tr>\n",
       "  </tbody>\n",
       "</table>\n",
       "</div>"
      ],
      "text/plain": [
       "Tenure               0    1    2    3    4    5    6    7    8    9    10\n",
       "RowNumber            95  232  201  213  203  209  196  177  197  213  101\n",
       "CustomerId           95  232  201  213  203  209  196  177  197  213  101\n",
       "Surname              95  232  201  213  203  209  196  177  197  213  101\n",
       "CreditScore          95  232  201  213  203  209  196  177  197  213  101\n",
       "Geography            95  232  201  213  203  209  196  177  197  213  101\n",
       "Gender               95  232  201  213  203  209  196  177  197  213  101\n",
       "Age                  95  232  201  213  203  209  196  177  197  213  101\n",
       "Balance              95  232  201  213  203  209  196  177  197  213  101\n",
       "NumOfProducts        95  232  201  213  203  209  196  177  197  213  101\n",
       "HasCrCard            95  232  201  213  203  209  196  177  197  213  101\n",
       "IsActiveMember       95  232  201  213  203  209  196  177  197  213  101\n",
       "EstimatedSalary      95  232  201  213  203  209  196  177  197  213  101\n",
       "Salaries_Grouped     95  232  201  213  203  209  196  177  197  213  101\n",
       "Balances_Grouped     95  232  201  213  203  209  196  177  197  213  101\n",
       "Ages_Grouped         95  232  201  213  203  209  196  177  197  213  101\n",
       "Credit_Score_Groups  95  232  201  213  203  209  196  177  197  213  101"
      ]
     },
     "execution_count": 104,
     "metadata": {},
     "output_type": "execute_result"
    }
   ],
   "source": [
    "yes_churn = bank_df.groupby(['Exited','Tenure']).count().transpose()[1]\n",
    "\n",
    "yes_churn\n",
    "\n",
    "\n",
    "#Looking at how many people churned after each month"
   ]
  },
  {
   "cell_type": "code",
   "execution_count": 105,
   "id": "aa1637f6",
   "metadata": {},
   "outputs": [
    {
     "data": {
      "text/html": [
       "<div>\n",
       "<style scoped>\n",
       "    .dataframe tbody tr th:only-of-type {\n",
       "        vertical-align: middle;\n",
       "    }\n",
       "\n",
       "    .dataframe tbody tr th {\n",
       "        vertical-align: top;\n",
       "    }\n",
       "\n",
       "    .dataframe thead th {\n",
       "        text-align: right;\n",
       "    }\n",
       "</style>\n",
       "<table border=\"1\" class=\"dataframe\">\n",
       "  <thead>\n",
       "    <tr style=\"text-align: right;\">\n",
       "      <th>Tenure</th>\n",
       "      <th>0</th>\n",
       "      <th>1</th>\n",
       "      <th>2</th>\n",
       "      <th>3</th>\n",
       "      <th>4</th>\n",
       "      <th>5</th>\n",
       "      <th>6</th>\n",
       "      <th>7</th>\n",
       "      <th>8</th>\n",
       "      <th>9</th>\n",
       "      <th>10</th>\n",
       "    </tr>\n",
       "  </thead>\n",
       "  <tbody>\n",
       "    <tr>\n",
       "      <th>RowNumber</th>\n",
       "      <td>318</td>\n",
       "      <td>803</td>\n",
       "      <td>847</td>\n",
       "      <td>796</td>\n",
       "      <td>786</td>\n",
       "      <td>803</td>\n",
       "      <td>771</td>\n",
       "      <td>851</td>\n",
       "      <td>828</td>\n",
       "      <td>771</td>\n",
       "      <td>389</td>\n",
       "    </tr>\n",
       "    <tr>\n",
       "      <th>CustomerId</th>\n",
       "      <td>318</td>\n",
       "      <td>803</td>\n",
       "      <td>847</td>\n",
       "      <td>796</td>\n",
       "      <td>786</td>\n",
       "      <td>803</td>\n",
       "      <td>771</td>\n",
       "      <td>851</td>\n",
       "      <td>828</td>\n",
       "      <td>771</td>\n",
       "      <td>389</td>\n",
       "    </tr>\n",
       "    <tr>\n",
       "      <th>Surname</th>\n",
       "      <td>318</td>\n",
       "      <td>803</td>\n",
       "      <td>847</td>\n",
       "      <td>796</td>\n",
       "      <td>786</td>\n",
       "      <td>803</td>\n",
       "      <td>771</td>\n",
       "      <td>851</td>\n",
       "      <td>828</td>\n",
       "      <td>771</td>\n",
       "      <td>389</td>\n",
       "    </tr>\n",
       "    <tr>\n",
       "      <th>CreditScore</th>\n",
       "      <td>318</td>\n",
       "      <td>803</td>\n",
       "      <td>847</td>\n",
       "      <td>796</td>\n",
       "      <td>786</td>\n",
       "      <td>803</td>\n",
       "      <td>771</td>\n",
       "      <td>851</td>\n",
       "      <td>828</td>\n",
       "      <td>771</td>\n",
       "      <td>389</td>\n",
       "    </tr>\n",
       "    <tr>\n",
       "      <th>Geography</th>\n",
       "      <td>318</td>\n",
       "      <td>803</td>\n",
       "      <td>847</td>\n",
       "      <td>796</td>\n",
       "      <td>786</td>\n",
       "      <td>803</td>\n",
       "      <td>771</td>\n",
       "      <td>851</td>\n",
       "      <td>828</td>\n",
       "      <td>771</td>\n",
       "      <td>389</td>\n",
       "    </tr>\n",
       "    <tr>\n",
       "      <th>Gender</th>\n",
       "      <td>318</td>\n",
       "      <td>803</td>\n",
       "      <td>847</td>\n",
       "      <td>796</td>\n",
       "      <td>786</td>\n",
       "      <td>803</td>\n",
       "      <td>771</td>\n",
       "      <td>851</td>\n",
       "      <td>828</td>\n",
       "      <td>771</td>\n",
       "      <td>389</td>\n",
       "    </tr>\n",
       "    <tr>\n",
       "      <th>Age</th>\n",
       "      <td>318</td>\n",
       "      <td>803</td>\n",
       "      <td>847</td>\n",
       "      <td>796</td>\n",
       "      <td>786</td>\n",
       "      <td>803</td>\n",
       "      <td>771</td>\n",
       "      <td>851</td>\n",
       "      <td>828</td>\n",
       "      <td>771</td>\n",
       "      <td>389</td>\n",
       "    </tr>\n",
       "    <tr>\n",
       "      <th>Balance</th>\n",
       "      <td>318</td>\n",
       "      <td>803</td>\n",
       "      <td>847</td>\n",
       "      <td>796</td>\n",
       "      <td>786</td>\n",
       "      <td>803</td>\n",
       "      <td>771</td>\n",
       "      <td>851</td>\n",
       "      <td>828</td>\n",
       "      <td>771</td>\n",
       "      <td>389</td>\n",
       "    </tr>\n",
       "    <tr>\n",
       "      <th>NumOfProducts</th>\n",
       "      <td>318</td>\n",
       "      <td>803</td>\n",
       "      <td>847</td>\n",
       "      <td>796</td>\n",
       "      <td>786</td>\n",
       "      <td>803</td>\n",
       "      <td>771</td>\n",
       "      <td>851</td>\n",
       "      <td>828</td>\n",
       "      <td>771</td>\n",
       "      <td>389</td>\n",
       "    </tr>\n",
       "    <tr>\n",
       "      <th>HasCrCard</th>\n",
       "      <td>318</td>\n",
       "      <td>803</td>\n",
       "      <td>847</td>\n",
       "      <td>796</td>\n",
       "      <td>786</td>\n",
       "      <td>803</td>\n",
       "      <td>771</td>\n",
       "      <td>851</td>\n",
       "      <td>828</td>\n",
       "      <td>771</td>\n",
       "      <td>389</td>\n",
       "    </tr>\n",
       "    <tr>\n",
       "      <th>IsActiveMember</th>\n",
       "      <td>318</td>\n",
       "      <td>803</td>\n",
       "      <td>847</td>\n",
       "      <td>796</td>\n",
       "      <td>786</td>\n",
       "      <td>803</td>\n",
       "      <td>771</td>\n",
       "      <td>851</td>\n",
       "      <td>828</td>\n",
       "      <td>771</td>\n",
       "      <td>389</td>\n",
       "    </tr>\n",
       "    <tr>\n",
       "      <th>EstimatedSalary</th>\n",
       "      <td>318</td>\n",
       "      <td>803</td>\n",
       "      <td>847</td>\n",
       "      <td>796</td>\n",
       "      <td>786</td>\n",
       "      <td>803</td>\n",
       "      <td>771</td>\n",
       "      <td>851</td>\n",
       "      <td>828</td>\n",
       "      <td>771</td>\n",
       "      <td>389</td>\n",
       "    </tr>\n",
       "    <tr>\n",
       "      <th>Salaries_Grouped</th>\n",
       "      <td>318</td>\n",
       "      <td>803</td>\n",
       "      <td>847</td>\n",
       "      <td>796</td>\n",
       "      <td>786</td>\n",
       "      <td>803</td>\n",
       "      <td>771</td>\n",
       "      <td>851</td>\n",
       "      <td>828</td>\n",
       "      <td>771</td>\n",
       "      <td>389</td>\n",
       "    </tr>\n",
       "    <tr>\n",
       "      <th>Balances_Grouped</th>\n",
       "      <td>318</td>\n",
       "      <td>803</td>\n",
       "      <td>847</td>\n",
       "      <td>796</td>\n",
       "      <td>786</td>\n",
       "      <td>803</td>\n",
       "      <td>771</td>\n",
       "      <td>851</td>\n",
       "      <td>828</td>\n",
       "      <td>771</td>\n",
       "      <td>389</td>\n",
       "    </tr>\n",
       "    <tr>\n",
       "      <th>Ages_Grouped</th>\n",
       "      <td>318</td>\n",
       "      <td>803</td>\n",
       "      <td>847</td>\n",
       "      <td>796</td>\n",
       "      <td>786</td>\n",
       "      <td>803</td>\n",
       "      <td>771</td>\n",
       "      <td>851</td>\n",
       "      <td>828</td>\n",
       "      <td>771</td>\n",
       "      <td>389</td>\n",
       "    </tr>\n",
       "    <tr>\n",
       "      <th>Credit_Score_Groups</th>\n",
       "      <td>318</td>\n",
       "      <td>803</td>\n",
       "      <td>847</td>\n",
       "      <td>796</td>\n",
       "      <td>786</td>\n",
       "      <td>803</td>\n",
       "      <td>771</td>\n",
       "      <td>851</td>\n",
       "      <td>828</td>\n",
       "      <td>771</td>\n",
       "      <td>389</td>\n",
       "    </tr>\n",
       "  </tbody>\n",
       "</table>\n",
       "</div>"
      ],
      "text/plain": [
       "Tenure                0    1    2    3    4    5    6    7    8    9    10\n",
       "RowNumber            318  803  847  796  786  803  771  851  828  771  389\n",
       "CustomerId           318  803  847  796  786  803  771  851  828  771  389\n",
       "Surname              318  803  847  796  786  803  771  851  828  771  389\n",
       "CreditScore          318  803  847  796  786  803  771  851  828  771  389\n",
       "Geography            318  803  847  796  786  803  771  851  828  771  389\n",
       "Gender               318  803  847  796  786  803  771  851  828  771  389\n",
       "Age                  318  803  847  796  786  803  771  851  828  771  389\n",
       "Balance              318  803  847  796  786  803  771  851  828  771  389\n",
       "NumOfProducts        318  803  847  796  786  803  771  851  828  771  389\n",
       "HasCrCard            318  803  847  796  786  803  771  851  828  771  389\n",
       "IsActiveMember       318  803  847  796  786  803  771  851  828  771  389\n",
       "EstimatedSalary      318  803  847  796  786  803  771  851  828  771  389\n",
       "Salaries_Grouped     318  803  847  796  786  803  771  851  828  771  389\n",
       "Balances_Grouped     318  803  847  796  786  803  771  851  828  771  389\n",
       "Ages_Grouped         318  803  847  796  786  803  771  851  828  771  389\n",
       "Credit_Score_Groups  318  803  847  796  786  803  771  851  828  771  389"
      ]
     },
     "execution_count": 105,
     "metadata": {},
     "output_type": "execute_result"
    }
   ],
   "source": [
    "no_churn = bank_df.groupby(['Exited','Tenure']).count().transpose()[0]\n",
    "\n",
    "no_churn"
   ]
  },
  {
   "cell_type": "code",
   "execution_count": 106,
   "id": "7b3e46fb",
   "metadata": {},
   "outputs": [
    {
     "data": {
      "text/html": [
       "<div>\n",
       "<style scoped>\n",
       "    .dataframe tbody tr th:only-of-type {\n",
       "        vertical-align: middle;\n",
       "    }\n",
       "\n",
       "    .dataframe tbody tr th {\n",
       "        vertical-align: top;\n",
       "    }\n",
       "\n",
       "    .dataframe thead th {\n",
       "        text-align: right;\n",
       "    }\n",
       "</style>\n",
       "<table border=\"1\" class=\"dataframe\">\n",
       "  <thead>\n",
       "    <tr style=\"text-align: right;\">\n",
       "      <th></th>\n",
       "      <th>RowNumber</th>\n",
       "      <th>CustomerId</th>\n",
       "      <th>Surname</th>\n",
       "      <th>CreditScore</th>\n",
       "      <th>Geography</th>\n",
       "      <th>Gender</th>\n",
       "      <th>Age</th>\n",
       "      <th>Tenure</th>\n",
       "      <th>Balance</th>\n",
       "      <th>NumOfProducts</th>\n",
       "      <th>HasCrCard</th>\n",
       "      <th>IsActiveMember</th>\n",
       "      <th>EstimatedSalary</th>\n",
       "      <th>Exited</th>\n",
       "      <th>Salaries_Grouped</th>\n",
       "      <th>Balances_Grouped</th>\n",
       "      <th>Ages_Grouped</th>\n",
       "      <th>Credit_Score_Groups</th>\n",
       "    </tr>\n",
       "  </thead>\n",
       "  <tbody>\n",
       "    <tr>\n",
       "      <th>0</th>\n",
       "      <td>1</td>\n",
       "      <td>15634602</td>\n",
       "      <td>Hargrave</td>\n",
       "      <td>619</td>\n",
       "      <td>France</td>\n",
       "      <td>Female</td>\n",
       "      <td>42</td>\n",
       "      <td>2</td>\n",
       "      <td>0.00</td>\n",
       "      <td>1</td>\n",
       "      <td>1</td>\n",
       "      <td>1</td>\n",
       "      <td>101348.88</td>\n",
       "      <td>1</td>\n",
       "      <td>5</td>\n",
       "      <td>1</td>\n",
       "      <td>2</td>\n",
       "      <td>Average</td>\n",
       "    </tr>\n",
       "    <tr>\n",
       "      <th>1</th>\n",
       "      <td>2</td>\n",
       "      <td>15647311</td>\n",
       "      <td>Hill</td>\n",
       "      <td>608</td>\n",
       "      <td>Spain</td>\n",
       "      <td>Female</td>\n",
       "      <td>41</td>\n",
       "      <td>1</td>\n",
       "      <td>83807.86</td>\n",
       "      <td>1</td>\n",
       "      <td>0</td>\n",
       "      <td>1</td>\n",
       "      <td>112542.58</td>\n",
       "      <td>0</td>\n",
       "      <td>5</td>\n",
       "      <td>4</td>\n",
       "      <td>2</td>\n",
       "      <td>Average</td>\n",
       "    </tr>\n",
       "    <tr>\n",
       "      <th>2</th>\n",
       "      <td>3</td>\n",
       "      <td>15619304</td>\n",
       "      <td>Onio</td>\n",
       "      <td>502</td>\n",
       "      <td>France</td>\n",
       "      <td>Female</td>\n",
       "      <td>42</td>\n",
       "      <td>8</td>\n",
       "      <td>159660.80</td>\n",
       "      <td>3</td>\n",
       "      <td>1</td>\n",
       "      <td>0</td>\n",
       "      <td>113931.57</td>\n",
       "      <td>1</td>\n",
       "      <td>5</td>\n",
       "      <td>7</td>\n",
       "      <td>2</td>\n",
       "      <td>Low</td>\n",
       "    </tr>\n",
       "    <tr>\n",
       "      <th>3</th>\n",
       "      <td>4</td>\n",
       "      <td>15701354</td>\n",
       "      <td>Boni</td>\n",
       "      <td>699</td>\n",
       "      <td>France</td>\n",
       "      <td>Female</td>\n",
       "      <td>39</td>\n",
       "      <td>1</td>\n",
       "      <td>0.00</td>\n",
       "      <td>2</td>\n",
       "      <td>0</td>\n",
       "      <td>0</td>\n",
       "      <td>93826.63</td>\n",
       "      <td>0</td>\n",
       "      <td>4</td>\n",
       "      <td>1</td>\n",
       "      <td>2</td>\n",
       "      <td>Average</td>\n",
       "    </tr>\n",
       "    <tr>\n",
       "      <th>4</th>\n",
       "      <td>5</td>\n",
       "      <td>15737888</td>\n",
       "      <td>Mitchell</td>\n",
       "      <td>850</td>\n",
       "      <td>Spain</td>\n",
       "      <td>Female</td>\n",
       "      <td>43</td>\n",
       "      <td>2</td>\n",
       "      <td>125510.82</td>\n",
       "      <td>1</td>\n",
       "      <td>1</td>\n",
       "      <td>1</td>\n",
       "      <td>79084.10</td>\n",
       "      <td>0</td>\n",
       "      <td>4</td>\n",
       "      <td>6</td>\n",
       "      <td>2</td>\n",
       "      <td>High</td>\n",
       "    </tr>\n",
       "  </tbody>\n",
       "</table>\n",
       "</div>"
      ],
      "text/plain": [
       "   RowNumber  CustomerId   Surname  CreditScore Geography  Gender  Age  \\\n",
       "0          1    15634602  Hargrave          619    France  Female   42   \n",
       "1          2    15647311      Hill          608     Spain  Female   41   \n",
       "2          3    15619304      Onio          502    France  Female   42   \n",
       "3          4    15701354      Boni          699    France  Female   39   \n",
       "4          5    15737888  Mitchell          850     Spain  Female   43   \n",
       "\n",
       "   Tenure    Balance  NumOfProducts  HasCrCard  IsActiveMember  \\\n",
       "0       2       0.00              1          1               1   \n",
       "1       1   83807.86              1          0               1   \n",
       "2       8  159660.80              3          1               0   \n",
       "3       1       0.00              2          0               0   \n",
       "4       2  125510.82              1          1               1   \n",
       "\n",
       "   EstimatedSalary  Exited  Salaries_Grouped  Balances_Grouped  Ages_Grouped  \\\n",
       "0        101348.88       1                 5                 1             2   \n",
       "1        112542.58       0                 5                 4             2   \n",
       "2        113931.57       1                 5                 7             2   \n",
       "3         93826.63       0                 4                 1             2   \n",
       "4         79084.10       0                 4                 6             2   \n",
       "\n",
       "  Credit_Score_Groups  \n",
       "0             Average  \n",
       "1             Average  \n",
       "2                 Low  \n",
       "3             Average  \n",
       "4                High  "
      ]
     },
     "execution_count": 106,
     "metadata": {},
     "output_type": "execute_result"
    }
   ],
   "source": [
    "bank_df.head()"
   ]
  },
  {
   "cell_type": "code",
   "execution_count": 107,
   "id": "749fd148",
   "metadata": {},
   "outputs": [
    {
     "data": {
      "text/plain": [
       "<AxesSubplot:xlabel='Geography', ylabel='count'>"
      ]
     },
     "execution_count": 107,
     "metadata": {},
     "output_type": "execute_result"
    },
    {
     "data": {
      "image/png": "[encoded data removed]",
      "text/plain": [
       "<Figure size 432x288 with 1 Axes>"
      ]
     },
     "metadata": {
      "needs_background": "light"
     },
     "output_type": "display_data"
    }
   ],
   "source": [
    "sns.countplot(data=bank_df, x='Geography', hue='IsActiveMember')"
   ]
  },
  {
   "cell_type": "code",
   "execution_count": 108,
   "id": "084f5d0b",
   "metadata": {},
   "outputs": [],
   "source": [
    "#Scaling the data\n",
    "\n",
    "from sklearn.preprocessing import StandardScaler\n",
    "\n",
    "scaler = StandardScaler()"
   ]
  },
  {
   "cell_type": "code",
   "execution_count": 109,
   "id": "8e4953b2",
   "metadata": {},
   "outputs": [],
   "source": [
    "#Predictive Modeling\n",
    "\n",
    "X = bank_df.drop(['RowNumber', 'CustomerId','Surname','Salaries_Grouped', 'Balances_Grouped', 'Ages_Grouped', 'Credit_Score_Groups', 'Exited'], axis=1)\n",
    "\n",
    "y = bank_df['Exited']"
   ]
  },
  {
   "cell_type": "code",
   "execution_count": 110,
   "id": "3b854ddf",
   "metadata": {},
   "outputs": [],
   "source": [
    "X = pd.get_dummies(X, drop_first = True)"
   ]
  },
  {
   "cell_type": "code",
   "execution_count": 111,
   "id": "4e5f748b",
   "metadata": {},
   "outputs": [],
   "source": [
    "from sklearn.model_selection import train_test_split\n",
    "X_train,X_test,y_train,y_test = train_test_split(X,y, test_size=0.3, random_state=101)"
   ]
  },
  {
   "cell_type": "code",
   "execution_count": 112,
   "id": "f1073fae",
   "metadata": {},
   "outputs": [],
   "source": [
    "scaled_X_train = scaler.fit_transform(X_train)\n",
    "\n",
    "scaled_X_test = scaler.transform(X_test)"
   ]
  },
  {
   "cell_type": "code",
   "execution_count": 113,
   "id": "54d19126",
   "metadata": {},
   "outputs": [],
   "source": [
    "from sklearn.tree import DecisionTreeClassifier\n",
    "from sklearn.ensemble import RandomForestClassifier\n",
    "from sklearn.metrics import plot_confusion_matrix, classification_report\n",
    "from sklearn.model_selection import GridSearchCV"
   ]
  },
  {
   "cell_type": "code",
   "execution_count": 114,
   "id": "070d9529",
   "metadata": {},
   "outputs": [],
   "source": [
    "dtc_model = DecisionTreeClassifier()\n",
    "\n",
    "rfc_model = RandomForestClassifier()"
   ]
  },
  {
   "cell_type": "code",
   "execution_count": 115,
   "id": "005f4b16",
   "metadata": {},
   "outputs": [
    {
     "data": {
      "text/plain": [
       "11"
      ]
     },
     "execution_count": 115,
     "metadata": {},
     "output_type": "execute_result"
    }
   ],
   "source": [
    "#Checking amount of features for parameter grid\n",
    "len(X_train.columns)"
   ]
  },
  {
   "cell_type": "code",
   "execution_count": 116,
   "id": "008faf9c",
   "metadata": {},
   "outputs": [],
   "source": [
    "#Parameter grid adjustments\n",
    "\n",
    "dtc_param_grid = {'max_depth':[5,10,50,100,500], \n",
    "              'max_features':[3,4,6,10,11],}\n",
    "\n",
    "rfc_param_grid = {'n_estimators':[100,300,500,700,1000],\n",
    "                 'max_features':[3,4,6,10,11],\n",
    "                 'bootstrap':[True],\n",
    "                 'oob_score':[True]}\n"
   ]
  },
  {
   "cell_type": "code",
   "execution_count": 117,
   "id": "f7aae12b",
   "metadata": {},
   "outputs": [],
   "source": [
    "dt_grid = GridSearchCV(dtc_model,dtc_param_grid)"
   ]
  },
  {
   "cell_type": "code",
   "execution_count": 118,
   "id": "072516e8",
   "metadata": {},
   "outputs": [],
   "source": [
    "rf_grid = GridSearchCV(rfc_model,rfc_param_grid)"
   ]
  },
  {
   "cell_type": "code",
   "execution_count": 119,
   "id": "d6a626df",
   "metadata": {},
   "outputs": [
    {
     "data": {
      "text/plain": [
       "GridSearchCV(estimator=DecisionTreeClassifier(),\n",
       "             param_grid={'max_depth': [5, 10, 50, 100, 500],\n",
       "                         'max_features': [3, 4, 6, 10, 11]})"
      ]
     },
     "execution_count": 119,
     "metadata": {},
     "output_type": "execute_result"
    }
   ],
   "source": [
    "dt_grid.fit(X_train,y_train)"
   ]
  },
  {
   "cell_type": "code",
   "execution_count": 120,
   "id": "d64df40a",
   "metadata": {},
   "outputs": [
    {
     "data": {
      "text/plain": [
       "GridSearchCV(estimator=RandomForestClassifier(),\n",
       "             param_grid={'bootstrap': [True], 'max_features': [3, 4, 6, 10, 11],\n",
       "                         'n_estimators': [100, 300, 500, 700, 1000],\n",
       "                         'oob_score': [True]})"
      ]
     },
     "execution_count": 120,
     "metadata": {},
     "output_type": "execute_result"
    }
   ],
   "source": [
    "rf_grid.fit(X_train, y_train)"
   ]
  },
  {
   "cell_type": "code",
   "execution_count": 121,
   "id": "e7444968",
   "metadata": {},
   "outputs": [
    {
     "data": {
      "text/plain": [
       "{'max_depth': 5, 'max_features': 11}"
      ]
     },
     "execution_count": 121,
     "metadata": {},
     "output_type": "execute_result"
    }
   ],
   "source": [
    "dt_grid.best_params_"
   ]
  },
  {
   "cell_type": "code",
   "execution_count": 122,
   "id": "666b4772",
   "metadata": {},
   "outputs": [
    {
     "data": {
      "text/plain": [
       "{'bootstrap': True, 'max_features': 4, 'n_estimators': 500, 'oob_score': True}"
      ]
     },
     "execution_count": 122,
     "metadata": {},
     "output_type": "execute_result"
    }
   ],
   "source": [
    "rf_grid.best_params_"
   ]
  },
  {
   "cell_type": "code",
   "execution_count": 131,
   "id": "15968ff0",
   "metadata": {},
   "outputs": [],
   "source": [
    "#Model Remake with Best Parameters\n",
    "\n",
    "best_rfc_model = RandomForestClassifier(max_features=4, n_estimators=500, bootstrap=True, oob_score=True)\n",
    "\n",
    "\n",
    "best_dt_model = DecisionTreeClassifier(max_depth=5, max_features=11)"
   ]
  },
  {
   "cell_type": "code",
   "execution_count": 132,
   "id": "b8135293",
   "metadata": {},
   "outputs": [
    {
     "data": {
      "text/plain": [
       "DecisionTreeClassifier(max_depth=5, max_features=11)"
      ]
     },
     "execution_count": 132,
     "metadata": {},
     "output_type": "execute_result"
    }
   ],
   "source": [
    "best_dt_model.fit(X_train, y_train)"
   ]
  },
  {
   "cell_type": "code",
   "execution_count": 133,
   "id": "802b77bb",
   "metadata": {},
   "outputs": [
    {
     "data": {
      "text/plain": [
       "RandomForestClassifier(max_features=4, n_estimators=500, oob_score=True)"
      ]
     },
     "execution_count": 133,
     "metadata": {},
     "output_type": "execute_result"
    }
   ],
   "source": [
    "best_rfc_model.fit(X_train, y_train)"
   ]
  },
  {
   "cell_type": "code",
   "execution_count": 134,
   "id": "2d64b095",
   "metadata": {},
   "outputs": [],
   "source": [
    "#Creating Predictions\n",
    "\n",
    "rfc_preds = best_rfc_model.predict(X_test)\n",
    "\n",
    "dt_preds = best_dt_model.predict(X_test)"
   ]
  },
  {
   "cell_type": "code",
   "execution_count": 135,
   "id": "a098ef95",
   "metadata": {},
   "outputs": [
    {
     "name": "stdout",
     "output_type": "stream",
     "text": [
      "              precision    recall  f1-score   support\n",
      "\n",
      "           0       0.87      0.97      0.91      2378\n",
      "           1       0.77      0.44      0.56       622\n",
      "\n",
      "    accuracy                           0.86      3000\n",
      "   macro avg       0.82      0.70      0.74      3000\n",
      "weighted avg       0.85      0.86      0.84      3000\n",
      "\n"
     ]
    }
   ],
   "source": [
    "print(classification_report(y_test,dt_preds))\n"
   ]
  },
  {
   "cell_type": "code",
   "execution_count": 136,
   "id": "e4fb23ec",
   "metadata": {},
   "outputs": [
    {
     "name": "stdout",
     "output_type": "stream",
     "text": [
      "              precision    recall  f1-score   support\n",
      "\n",
      "           0       0.88      0.96      0.92      2378\n",
      "           1       0.76      0.50      0.61       622\n",
      "\n",
      "    accuracy                           0.86      3000\n",
      "   macro avg       0.82      0.73      0.76      3000\n",
      "weighted avg       0.86      0.86      0.85      3000\n",
      "\n"
     ]
    }
   ],
   "source": [
    "print(classification_report(y_test,rfc_preds))\n"
   ]
  },
  {
   "cell_type": "code",
   "execution_count": 137,
   "id": "dfb193de",
   "metadata": {},
   "outputs": [
    {
     "data": {
      "text/plain": [
       "<sklearn.metrics._plot.confusion_matrix.ConfusionMatrixDisplay at 0x2121986ce80>"
      ]
     },
     "execution_count": 137,
     "metadata": {},
     "output_type": "execute_result"
    },
    {
     "data": {
      "image/png": "[encoded data removed]",
      "text/plain": [
       "<Figure size 432x288 with 2 Axes>"
      ]
     },
     "metadata": {
      "needs_background": "light"
     },
     "output_type": "display_data"
    }
   ],
   "source": [
    "plot_confusion_matrix(best_dt_model,X_test,y_test)\n",
    "\n",
    "\n",
    "\n",
    "#LOOKING AT THE BOTTOM LEFT CORNER NUMERICAL VALUE\n",
    "\n",
    "\n",
    "#Results show that this decision tree model will predict approximately 350 will not churn when actually then did churn"
   ]
  },
  {
   "cell_type": "code",
   "execution_count": 138,
   "id": "1ea1f3b7",
   "metadata": {},
   "outputs": [
    {
     "data": {
      "text/plain": [
       "<sklearn.metrics._plot.confusion_matrix.ConfusionMatrixDisplay at 0x2121980ba00>"
      ]
     },
     "execution_count": 138,
     "metadata": {},
     "output_type": "execute_result"
    },
    {
     "data": {
      "image/png": "[encoded data removed]",
      "text/plain": [
       "<Figure size 432x288 with 2 Axes>"
      ]
     },
     "metadata": {
      "needs_background": "light"
     },
     "output_type": "display_data"
    }
   ],
   "source": [
    "plot_confusion_matrix(best_rfc_model,X_test,y_test)\n",
    "\n",
    "\n",
    "#LOOKING AT THE BOTTOM LEFT CORNER NUMERICAL VALUE\n",
    "\n",
    "#Results show that this random forest model will predict approximately 310 will not churn when actually then did churn"
   ]
  }
 ],
 "metadata": {
  "kernelspec": {
   "display_name": "Python 3 (ipykernel)",
   "language": "python",
   "name": "python3"
  },
  "language_info": {
   "codemirror_mode": {
    "name": "ipython",
    "version": 3
   },
   "file_extension": ".py",
   "mimetype": "text/x-python",
   "name": "python",
   "nbconvert_exporter": "python",
   "pygments_lexer": "ipython3",
   "version": "3.9.7"
  }
 },
 "nbformat": 4,
 "nbformat_minor": 5
}
